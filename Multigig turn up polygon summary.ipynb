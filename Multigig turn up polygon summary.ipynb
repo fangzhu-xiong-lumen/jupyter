{
 "cells": [
  {
   "cell_type": "code",
   "execution_count": 1,
   "id": "1c151dad",
   "metadata": {},
   "outputs": [],
   "source": [
    "import os\n",
    "import sys\n",
    "import pandas as pd\n",
    "import numpy as np\n",
    "import cx_Oracle\n",
    "cx_Oracle.init_oracle_client(lib_dir=r\"C:\\Oracle\\instantclient_21_6\")"
   ]
  },
  {
   "cell_type": "markdown",
   "id": "32a9c82d",
   "metadata": {},
   "source": [
    "### Queries"
   ]
  },
  {
   "cell_type": "code",
   "execution_count": 2,
   "id": "a55ff27e",
   "metadata": {},
   "outputs": [],
   "source": [
    "# FRAM001P\n",
    "conn = cx_Oracle.connect(\n",
    "    user=\"AD21236\",\n",
    "    password=\"L2022$Um\",\n",
    "    dsn=\"RACORAP08-SCAN.CORP.INTRANET/FRAM001P_PROD\",\n",
    "    encoding=\"UTF-8\")"
   ]
  },
  {
   "cell_type": "code",
   "execution_count": 3,
   "id": "733c45e4",
   "metadata": {},
   "outputs": [
    {
     "name": "stderr",
     "output_type": "stream",
     "text": [
      "C:\\Users\\AD21236\\Anaconda3\\lib\\site-packages\\pandas\\io\\sql.py:761: UserWarning: pandas only support SQLAlchemy connectable(engine/connection) ordatabase string URI or sqlite3 DBAPI2 connectionother DBAPI2 objects are not tested, please consider using SQLAlchemy\n",
      "  warnings.warn(\n"
     ]
    },
    {
     "name": "stdout",
     "output_type": "stream",
     "text": [
      "CPU times: total: 156 ms\n",
      "Wall time: 16.6 s\n"
     ]
    }
   ],
   "source": [
    "%%time\n",
    "\n",
    "# count of MG enabled LUs at wire center level\n",
    "# 10/24/22 - add UNI ecd date\n",
    "\n",
    "mg_query = \"\"\"\n",
    "\n",
    "            SELECT  distinct\n",
    "                    O.WIRE_CENTER_ID\n",
    "                    ,O.UNI_POLYGONID\n",
    "                    ,O.ADDRESS\n",
    "                    ,O.HNO\n",
    "                    ,O.H_SUFFIX\n",
    "                    ,O.H_PRE\n",
    "                    ,O.ST\n",
    "                    ,O.ST_SUFFIX\n",
    "                    ,O.ST_POST\n",
    "                    ,O.UNIT\n",
    "                    ,O.COM\n",
    "                    ,O.STATE\n",
    "                    ,O.ZIP_CODE\n",
    "                    ,O.LU_LATITUDE\n",
    "                    ,O.LU_LONGITUDE\n",
    "                    ,O.UNI_ECD\n",
    "\n",
    "                    \n",
    "            FROM    LQSMO.LU_QUAL_O O\n",
    "            \n",
    "            WHERE   ADDRESS <> '7599 S WHEELING CT'\n",
    "                    AND (UNI_SERVICETYPE LIKE 'XGS%' \n",
    "                        OR TECH_TYPE LIKE 'XGS_PON' \n",
    "                        OR OLT_TYPE='ADTRAN-SDX6320-16-XGS-PON') \n",
    "                    AND uni_status='IN SERVICE'\n",
    "                    AND UNI_POLYGONID in ('1178832','1178694','1178144',\n",
    "                                          '1179498','1179547','1179121','1179499',  --Phoenix AZ turned up 9/30/22\n",
    "                                          '1179687','1179674', -- Golden CO 10/10/22\n",
    "                                          '1180012', -- portland OR turned up 10/15/22\n",
    "                                          '1179864', -- denver CO turned up 10/15/22\n",
    "                                          '1179569','1179553','1179688', -- st paul and mn turned up 10/14/22\n",
    "                                          '1179808', -- turned up 10/21/22\n",
    "                                          '1179862','1179836','1179604','1179838','1179887','1180054','1180222', --turned up 10/21/22\n",
    "                                          '1179157','1179574', -- turned up 10/21/22\n",
    "\n",
    "--waiting turn-up\n",
    "'1179774',\n",
    "'1179996',\n",
    "'1180028',\n",
    "'1179976',\n",
    "'1180254',\n",
    "'1180117'\n",
    "\n",
    "                                          \n",
    "                                          ) --add in MG polygon IDs here\n",
    "\n",
    "\n",
    "\"\"\"\n",
    "\n",
    "mg_lu_ora = pd.read_sql(mg_query, con=conn) #contains total lu at wc level"
   ]
  },
  {
   "cell_type": "code",
   "execution_count": 4,
   "id": "9ff1250c",
   "metadata": {},
   "outputs": [
    {
     "data": {
      "text/plain": [
       "Index(['WIRE_CENTER_ID', 'UNI_POLYGONID', 'ADDRESS', 'HNO', 'H_SUFFIX',\n",
       "       'H_PRE', 'ST', 'ST_SUFFIX', 'ST_POST', 'UNIT', 'COM', 'STATE',\n",
       "       'ZIP_CODE', 'LU_LATITUDE', 'LU_LONGITUDE', 'UNI_ECD'],\n",
       "      dtype='object')"
      ]
     },
     "execution_count": 4,
     "metadata": {},
     "output_type": "execute_result"
    }
   ],
   "source": [
    "mg_lu_ora.columns"
   ]
  },
  {
   "cell_type": "code",
   "execution_count": 8,
   "id": "c986e390",
   "metadata": {},
   "outputs": [],
   "source": [
    "# future turn-ups\n",
    "multigig_polygon_summary = mg_lu_ora.groupby(['WIRE_CENTER_ID','UNI_POLYGONID'], as_index = False)['ADDRESS'].count()"
   ]
  },
  {
   "cell_type": "code",
   "execution_count": 10,
   "id": "4921728f",
   "metadata": {},
   "outputs": [
    {
     "data": {
      "text/plain": [
       "9104"
      ]
     },
     "execution_count": 10,
     "metadata": {},
     "output_type": "execute_result"
    }
   ],
   "source": [
    "multigig_polygon_summary['ADDRESS'].sum()"
   ]
  },
  {
   "cell_type": "code",
   "execution_count": 11,
   "id": "b6bf970e",
   "metadata": {},
   "outputs": [],
   "source": [
    "# export\n",
    "\n",
    "import time\n",
    "\n",
    "TodaysDate = time.strftime(\"%m%d%y\")\n",
    "excelfilename = \"Output/\" + TodaysDate +\"_multigig_polygon_summary.xlsx\"\n",
    "\n",
    "with pd.ExcelWriter(excelfilename) as writer:\n",
    "    multigig_polygon_summary.to_excel(writer, sheet_name='main addresses', index = False)\n",
    "#     df_1179808.to_excel(writer, sheet_name='1179808', index = False)\n",
    "#     df_1179862.to_excel(writer, sheet_name='1179862', index = False)\n",
    "#     df_1179836.to_excel(writer, sheet_name='1179836', index = False)\n",
    "#     df_1179604.to_excel(writer, sheet_name='1179604', index = False)\n",
    "#     df_1179157.to_excel(writer, sheet_name='1179157', index = False)\n",
    "#     df_1179838.to_excel(writer, sheet_name='1179838', index = False)\n",
    "#     df_1180222.to_excel(writer, sheet_name='1180222', index = False)\n",
    "#     df_1180054.to_excel(writer, sheet_name='1180054', index = False)\n",
    "#     df_1179574.to_excel(writer, sheet_name='1179574', index = False)\n",
    "#     df_1179887.to_excel(writer, sheet_name='1179887', index = False)\n"
   ]
  },
  {
   "cell_type": "code",
   "execution_count": null,
   "id": "7bd244d7",
   "metadata": {},
   "outputs": [],
   "source": []
  }
 ],
 "metadata": {
  "kernelspec": {
   "display_name": "Python 3 (ipykernel)",
   "language": "python",
   "name": "python3"
  },
  "language_info": {
   "codemirror_mode": {
    "name": "ipython",
    "version": 3
   },
   "file_extension": ".py",
   "mimetype": "text/x-python",
   "name": "python",
   "nbconvert_exporter": "python",
   "pygments_lexer": "ipython3",
   "version": "3.9.12"
  }
 },
 "nbformat": 4,
 "nbformat_minor": 5
}
