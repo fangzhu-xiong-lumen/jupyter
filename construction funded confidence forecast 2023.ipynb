{
 "cells": [
  {
   "cell_type": "markdown",
   "id": "6ed68a4b",
   "metadata": {},
   "source": [
    "Data for sales/penetration will not be ready until after the 8th of the month.\n",
    "\n",
    "### ***Pull Construction Funding at the beginning of the month, only once a month\n",
    "\n",
    "December 2022 funding data - already pulled 11/30/22 - do not pull until after 12/31"
   ]
  },
  {
   "cell_type": "code",
   "execution_count": 1,
   "id": "09125f94",
   "metadata": {},
   "outputs": [],
   "source": [
    "import os\n",
    "import sys\n",
    "import pandas as pd\n",
    "import cx_Oracle\n",
    "cx_Oracle.init_oracle_client(lib_dir=r\"C:\\Oracle\\instantclient_21_6\")"
   ]
  },
  {
   "cell_type": "code",
   "execution_count": 2,
   "id": "23508c6a",
   "metadata": {},
   "outputs": [],
   "source": [
    "# Import wire center datasource from 'Get Accurate Wire Center Base' project\n",
    "Sales_WC_excel = pd.read_excel(r'WireCenterBase/FINAL_wire_center_mapping_DO-NOT-ALTER.xlsx',sheet_name = 'Sheet1')"
   ]
  },
  {
   "cell_type": "code",
   "execution_count": 3,
   "id": "f7800f70",
   "metadata": {},
   "outputs": [],
   "source": [
    "# clean base table\n",
    "# check all states are legit\n",
    "# Sales_WC_excel['STATE'].value_counts()\n",
    "\n",
    "wc_df = Sales_WC_excel.copy() #save base table"
   ]
  },
  {
   "cell_type": "code",
   "execution_count": 4,
   "id": "298f79fa",
   "metadata": {},
   "outputs": [],
   "source": [
    "wc_df = wc_df.rename(columns = {'WIRE_CENTER_ID': 'PRIMARY_WIRE_CENTER_ID',\n",
    "                                'CBSA_NAME': 'CBSA',\n",
    "                                'DMA_L2': 'DMA'})"
   ]
  },
  {
   "cell_type": "code",
   "execution_count": 5,
   "id": "63dac6e5",
   "metadata": {},
   "outputs": [],
   "source": [
    "# Import excel MG readiness data\n",
    "MG_excel_df = pd.read_excel(r'120122_OpportunityScore_MultiGig_Readiness.xlsx',sheet_name = 'Datasheet')\n",
    "\n",
    "# Import excel opportunity score data\n",
    "OppScore_excel_df = pd.read_excel(r'OpportunityScoresMapping/CLLI_ZIP_XREF_WEIGHTED_SCORE.xlsx',sheet_name = 'Final')"
   ]
  },
  {
   "cell_type": "code",
   "execution_count": 6,
   "id": "9795d710",
   "metadata": {},
   "outputs": [],
   "source": [
    "# join in opportunity score\n",
    "wc_ora_df = wc_df.merge(OppScore_excel_df[['CLLI','Weighted Opportunity Score']], how = 'left', left_on = 'PRIMARY_WIRE_CENTER_ID', right_on = 'CLLI')"
   ]
  },
  {
   "cell_type": "code",
   "execution_count": 7,
   "id": "fd994ed5",
   "metadata": {},
   "outputs": [],
   "source": [
    "wc_ora_df = wc_ora_df.rename(columns = {'DMA_NAME': 'DMA'})"
   ]
  },
  {
   "cell_type": "code",
   "execution_count": 8,
   "id": "77778486",
   "metadata": {},
   "outputs": [],
   "source": [
    "# clean data\n",
    "wc_ora_df = wc_ora_df[['STATE','DMA','CBSA','Weighted Opportunity Score','PRIMARY_WIRE_CENTER_ID']].rename(\n",
    "    columns = {\n",
    "        'Weighted Opportunity Score':'OPPORTUNITY_SCORE'})"
   ]
  },
  {
   "cell_type": "code",
   "execution_count": 9,
   "id": "c8a01418",
   "metadata": {},
   "outputs": [],
   "source": [
    "# clean mg readiness data - getting core status and monthly planned build - month part needs to be hardcoded manually\n",
    "MG_excel_df = MG_excel_df[['PRIMARY_WIRE_CENTER_ID','Core Status']].rename(\n",
    "    columns = {\n",
    "        'Core Status': 'CORE_READINESS',\n",
    "})"
   ]
  },
  {
   "cell_type": "code",
   "execution_count": 10,
   "id": "337a82ef",
   "metadata": {},
   "outputs": [],
   "source": [
    "# join in planned xgs build/core status\n",
    "\n",
    "wc_ora_df = wc_ora_df.merge(MG_excel_df, how = 'left', on = 'PRIMARY_WIRE_CENTER_ID')"
   ]
  },
  {
   "cell_type": "code",
   "execution_count": 11,
   "id": "98530c46",
   "metadata": {},
   "outputs": [
    {
     "data": {
      "text/html": [
       "<div>\n",
       "<style scoped>\n",
       "    .dataframe tbody tr th:only-of-type {\n",
       "        vertical-align: middle;\n",
       "    }\n",
       "\n",
       "    .dataframe tbody tr th {\n",
       "        vertical-align: top;\n",
       "    }\n",
       "\n",
       "    .dataframe thead th {\n",
       "        text-align: right;\n",
       "    }\n",
       "</style>\n",
       "<table border=\"1\" class=\"dataframe\">\n",
       "  <thead>\n",
       "    <tr style=\"text-align: right;\">\n",
       "      <th></th>\n",
       "      <th>STATE</th>\n",
       "      <th>DMA</th>\n",
       "      <th>CBSA</th>\n",
       "      <th>OPPORTUNITY_SCORE</th>\n",
       "      <th>PRIMARY_WIRE_CENTER_ID</th>\n",
       "      <th>CORE_READINESS</th>\n",
       "    </tr>\n",
       "  </thead>\n",
       "  <tbody>\n",
       "    <tr>\n",
       "      <th>0</th>\n",
       "      <td>SD</td>\n",
       "      <td>SIOUX FALLS (MITCHELL) SD</td>\n",
       "      <td>ABERDEEN, SD</td>\n",
       "      <td>6.0</td>\n",
       "      <td>ABRDSDCO</td>\n",
       "      <td>NaN</td>\n",
       "    </tr>\n",
       "    <tr>\n",
       "      <th>1</th>\n",
       "      <td>WA</td>\n",
       "      <td>SEATTLE-TACOMA WA</td>\n",
       "      <td>ABERDEEN, WA</td>\n",
       "      <td>8.0</td>\n",
       "      <td>ABRDWA01</td>\n",
       "      <td>NaN</td>\n",
       "    </tr>\n",
       "    <tr>\n",
       "      <th>2</th>\n",
       "      <td>IA</td>\n",
       "      <td>DES MOINES-AMES IA</td>\n",
       "      <td>NON-CBSA</td>\n",
       "      <td>NaN</td>\n",
       "      <td>ACKLIACO</td>\n",
       "      <td>NaN</td>\n",
       "    </tr>\n",
       "    <tr>\n",
       "      <th>3</th>\n",
       "      <td>OR</td>\n",
       "      <td>EUGENE OR</td>\n",
       "      <td>CORVALLIS, OR</td>\n",
       "      <td>5.0</td>\n",
       "      <td>ADAROR21</td>\n",
       "      <td>NaN</td>\n",
       "    </tr>\n",
       "    <tr>\n",
       "      <th>4</th>\n",
       "      <td>IA</td>\n",
       "      <td>DES MOINES-AMES IA</td>\n",
       "      <td>DES MOINES-WEST DES MOINES, IA</td>\n",
       "      <td>14.0</td>\n",
       "      <td>ADELIACO</td>\n",
       "      <td>NaN</td>\n",
       "    </tr>\n",
       "  </tbody>\n",
       "</table>\n",
       "</div>"
      ],
      "text/plain": [
       "  STATE                        DMA                            CBSA  \\\n",
       "0    SD  SIOUX FALLS (MITCHELL) SD                    ABERDEEN, SD   \n",
       "1    WA          SEATTLE-TACOMA WA                    ABERDEEN, WA   \n",
       "2    IA         DES MOINES-AMES IA                        NON-CBSA   \n",
       "3    OR                  EUGENE OR                   CORVALLIS, OR   \n",
       "4    IA         DES MOINES-AMES IA  DES MOINES-WEST DES MOINES, IA   \n",
       "\n",
       "   OPPORTUNITY_SCORE PRIMARY_WIRE_CENTER_ID CORE_READINESS  \n",
       "0                6.0               ABRDSDCO            NaN  \n",
       "1                8.0               ABRDWA01            NaN  \n",
       "2                NaN               ACKLIACO            NaN  \n",
       "3                5.0               ADAROR21            NaN  \n",
       "4               14.0               ADELIACO            NaN  "
      ]
     },
     "execution_count": 11,
     "metadata": {},
     "output_type": "execute_result"
    }
   ],
   "source": [
    "# check data\n",
    "wc_ora_df.head()"
   ]
  },
  {
   "cell_type": "code",
   "execution_count": 12,
   "id": "91098773",
   "metadata": {},
   "outputs": [],
   "source": [
    "#Import Funding data\n",
    "Construction_Funding_df = pd.read_excel(r'FundingDetailsExport/2023_GPON_Details_Export_Table.xlsx',sheet_name = 'Export')"
   ]
  },
  {
   "cell_type": "code",
   "execution_count": 13,
   "id": "16469814",
   "metadata": {},
   "outputs": [
    {
     "data": {
      "text/plain": [
       "Low Confidence - High Risk         48\n",
       "Medium Confidence - Medium Risk    28\n",
       "High Confidence - Low Risk         13\n",
       "High Confidence                    11\n",
       "LOW CONFIDENCE/HIGH RISK           10\n",
       "Low Confidence                      7\n",
       "Med Probability/Med Risk            2\n",
       "Medium Confidence                   2\n",
       "Low Probability/High Risk           1\n",
       "MEDIUM CONFIDENCE/MEDIUM RISK       1\n",
       "LEGACY LEEP ONLY                    1\n",
       "6-HIGH CONFIDENCE - LOW RISK        1\n",
       "Med                                 1\n",
       "Name: PHASE_STAR_ID_20, dtype: int64"
      ]
     },
     "execution_count": 13,
     "metadata": {},
     "output_type": "execute_result"
    }
   ],
   "source": [
    "Construction_Funding_df[\"PHASE_STAR_ID_20\"].value_counts()"
   ]
  },
  {
   "cell_type": "code",
   "execution_count": 14,
   "id": "c78c9e08",
   "metadata": {},
   "outputs": [],
   "source": [
    "Construction_Funding_df_high = Construction_Funding_df[(Construction_Funding_df[\"PHASE_STAR_ID_20\"]==\"High Confidence - Low Risk\") | \n",
    "                        (Construction_Funding_df[\"PHASE_STAR_ID_20\"]==\"High Confidence\") | \n",
    "                        (Construction_Funding_df[\"PHASE_STAR_ID_20\"]==\"6-HIGH CONFIDENCE - LOW RISK\")\n",
    "                    ]\n",
    "\n",
    "# Construction_Funding_df_medium = Construction_Funding_df[(Construction_Funding_df[\"PHASE_STAR_ID_20\"]==\"Medium Confidence - Medium Risk\") | \n",
    "#                         (Construction_Funding_df[\"PHASE_STAR_ID_20\"]==\"Med Probability/Med Risk\") | \n",
    "#                         (Construction_Funding_df[\"PHASE_STAR_ID_20\"]==\"Medium Confidence\") |\n",
    "#                         (Construction_Funding_df[\"PHASE_STAR_ID_20\"]==\"MEDIUM CONFIDENCE/MEDIUM RISK\") |\n",
    "#                         (Construction_Funding_df[\"PHASE_STAR_ID_20\"]==\"Med\")\n",
    "#                     ]\n",
    "\n",
    "# Construction_Funding_df_low = Construction_Funding_df[\n",
    "#                         (Construction_Funding_df[\"PHASE_STAR_ID_20\"]!=\"High Confidence - Low Risk\") &\n",
    "#                         (Construction_Funding_df[\"PHASE_STAR_ID_20\"]!=\"High Confidence\") & \n",
    "#                         (Construction_Funding_df[\"PHASE_STAR_ID_20\"]!=\"6-HIGH CONFIDENCE - LOW RISK\") &\n",
    "#                         (Construction_Funding_df[\"PHASE_STAR_ID_20\"]!=\"Medium Confidence - Medium Risk\") &\n",
    "#                         (Construction_Funding_df[\"PHASE_STAR_ID_20\"]!=\"Med Probability/Med Risk\") & \n",
    "#                         (Construction_Funding_df[\"PHASE_STAR_ID_20\"]!=\"Medium Confidence\") &\n",
    "#                         (Construction_Funding_df[\"PHASE_STAR_ID_20\"]!=\"MEDIUM CONFIDENCE/MEDIUM RISK\") &\n",
    "#                         (Construction_Funding_df[\"PHASE_STAR_ID_20\"]!=\"Med\")\n",
    "#                     ]"
   ]
  },
  {
   "cell_type": "code",
   "execution_count": 15,
   "id": "c717b8e9",
   "metadata": {},
   "outputs": [
    {
     "name": "stderr",
     "output_type": "stream",
     "text": [
      "C:\\Windows\\Temp\\ipykernel_4904\\4056556507.py:1: SettingWithCopyWarning: \n",
      "A value is trying to be set on a copy of a slice from a DataFrame.\n",
      "Try using .loc[row_indexer,col_indexer] = value instead\n",
      "\n",
      "See the caveats in the documentation: https://pandas.pydata.org/pandas-docs/stable/user_guide/indexing.html#returning-a-view-versus-a-copy\n",
      "  Construction_Funding_df_high['PHASE_ECD_LOGIC'] = Construction_Funding_df_high['PHASE_ECD_LOGIC'].dt.to_period('M')\n",
      "C:\\Windows\\Temp\\ipykernel_4904\\4056556507.py:2: SettingWithCopyWarning: \n",
      "A value is trying to be set on a copy of a slice from a DataFrame.\n",
      "Try using .loc[row_indexer,col_indexer] = value instead\n",
      "\n",
      "See the caveats in the documentation: https://pandas.pydata.org/pandas-docs/stable/user_guide/indexing.html#returning-a-view-versus-a-copy\n",
      "  Construction_Funding_df_high['PHASE_ECD_LOGIC'] = Construction_Funding_df_high['PHASE_ECD_LOGIC'].astype(str)\n"
     ]
    }
   ],
   "source": [
    "Construction_Funding_df_high['PHASE_ECD_LOGIC'] = Construction_Funding_df_high['PHASE_ECD_LOGIC'].dt.to_period('M')\n",
    "Construction_Funding_df_high['PHASE_ECD_LOGIC'] = Construction_Funding_df_high['PHASE_ECD_LOGIC'].astype(str)\n",
    "Construction_pivot = Construction_Funding_df_high.groupby(by = [\"PRIMARY_WIRE_CENTER_ID\",\"PHASE_ECD_LOGIC\"], as_index = False).sum()\n",
    "Construction_pivot = Construction_pivot.pivot(index='PRIMARY_WIRE_CENTER_ID', columns='PHASE_ECD_LOGIC')['PHASE_NUM_OF_LUS'].reset_index()\n",
    "Construction_pivot = Construction_pivot.fillna(0)"
   ]
  },
  {
   "cell_type": "code",
   "execution_count": 16,
   "id": "0ff86f3b",
   "metadata": {
    "scrolled": true
   },
   "outputs": [],
   "source": [
    "# rename columns\n",
    "Construction_Funding_df_high = Construction_pivot.copy()\n",
    "Construction_Funding_df_high = Construction_Funding_df_high.groupby(\n",
    "    by = [\"PRIMARY_WIRE_CENTER_ID\"], as_index = False).sum().rename(\n",
    "    columns = {\n",
    "        '2022-09': 'SEP-22_GPON_CONSTRUCTION_FUNDED_high',\n",
    "        '2022-10': 'OCT-22_GPON_CONSTRUCTION_FUNDED_high',\n",
    "        '2022-11': 'NOV-22_GPON_CONSTRUCTION_FUNDED_high',\n",
    "        '2022-12': 'DEC-22_GPON_CONSTRUCTION_FUNDED_high',\n",
    "        '2023-01': 'JAN-23_GPON_CONSTRUCTION_FUNDED_high',\n",
    "        '2023-02': 'FEB-23_GPON_CONSTRUCTION_FUNDED_high',\n",
    "        '2023-03': 'MAR-23_GPON_CONSTRUCTION_FUNDED_high',\n",
    "        '2023-04': 'APR-23_GPON_CONSTRUCTION_FUNDED_high',\n",
    "        '2023-05': 'MAY-23_GPON_CONSTRUCTION_FUNDED_high',\n",
    "        '2023-06': 'JUN-23_GPON_CONSTRUCTION_FUNDED_high',\n",
    "        '2023-07': 'JUL-23_GPON_CONSTRUCTION_FUNDED_high',\n",
    "        '2023-08': 'AUG-23_GPON_CONSTRUCTION_FUNDED_high',\n",
    "        '2023-09': 'SEP-23_GPON_CONSTRUCTION_FUNDED_high',\n",
    "        '2023-10': 'OCT-23_GPON_CONSTRUCTION_FUNDED_high',\n",
    "        '2023-11': 'NOV-23_GPON_CONSTRUCTION_FUNDED_high',\n",
    "        '2023-12': 'DEC-23_GPON_CONSTRUCTION_FUNDED_high',\n",
    "})"
   ]
  },
  {
   "cell_type": "code",
   "execution_count": 17,
   "id": "643e0a10",
   "metadata": {},
   "outputs": [],
   "source": [
    "# join in construction funding to base table\n",
    "\n",
    "wc_ora_df = wc_ora_df.merge(Construction_Funding_df_high, how = 'left', on = 'PRIMARY_WIRE_CENTER_ID')"
   ]
  },
  {
   "cell_type": "code",
   "execution_count": 18,
   "id": "ca312b38",
   "metadata": {},
   "outputs": [
    {
     "data": {
      "text/html": [
       "<div>\n",
       "<style scoped>\n",
       "    .dataframe tbody tr th:only-of-type {\n",
       "        vertical-align: middle;\n",
       "    }\n",
       "\n",
       "    .dataframe tbody tr th {\n",
       "        vertical-align: top;\n",
       "    }\n",
       "\n",
       "    .dataframe thead th {\n",
       "        text-align: right;\n",
       "    }\n",
       "</style>\n",
       "<table border=\"1\" class=\"dataframe\">\n",
       "  <thead>\n",
       "    <tr style=\"text-align: right;\">\n",
       "      <th></th>\n",
       "      <th>STATE</th>\n",
       "      <th>DMA</th>\n",
       "      <th>CBSA</th>\n",
       "      <th>OPPORTUNITY_SCORE</th>\n",
       "      <th>PRIMARY_WIRE_CENTER_ID</th>\n",
       "      <th>CORE_READINESS</th>\n",
       "      <th>JAN-23_GPON_CONSTRUCTION_FUNDED_high</th>\n",
       "      <th>FEB-23_GPON_CONSTRUCTION_FUNDED_high</th>\n",
       "      <th>MAR-23_GPON_CONSTRUCTION_FUNDED_high</th>\n",
       "      <th>MAY-23_GPON_CONSTRUCTION_FUNDED_high</th>\n",
       "      <th>JUL-23_GPON_CONSTRUCTION_FUNDED_high</th>\n",
       "      <th>NOV-23_GPON_CONSTRUCTION_FUNDED_high</th>\n",
       "    </tr>\n",
       "  </thead>\n",
       "  <tbody>\n",
       "    <tr>\n",
       "      <th>0</th>\n",
       "      <td>SD</td>\n",
       "      <td>SIOUX FALLS (MITCHELL) SD</td>\n",
       "      <td>ABERDEEN, SD</td>\n",
       "      <td>6.0</td>\n",
       "      <td>ABRDSDCO</td>\n",
       "      <td>NaN</td>\n",
       "      <td>NaN</td>\n",
       "      <td>NaN</td>\n",
       "      <td>NaN</td>\n",
       "      <td>NaN</td>\n",
       "      <td>NaN</td>\n",
       "      <td>NaN</td>\n",
       "    </tr>\n",
       "    <tr>\n",
       "      <th>1</th>\n",
       "      <td>WA</td>\n",
       "      <td>SEATTLE-TACOMA WA</td>\n",
       "      <td>ABERDEEN, WA</td>\n",
       "      <td>8.0</td>\n",
       "      <td>ABRDWA01</td>\n",
       "      <td>NaN</td>\n",
       "      <td>NaN</td>\n",
       "      <td>NaN</td>\n",
       "      <td>NaN</td>\n",
       "      <td>NaN</td>\n",
       "      <td>NaN</td>\n",
       "      <td>NaN</td>\n",
       "    </tr>\n",
       "    <tr>\n",
       "      <th>2</th>\n",
       "      <td>IA</td>\n",
       "      <td>DES MOINES-AMES IA</td>\n",
       "      <td>NON-CBSA</td>\n",
       "      <td>NaN</td>\n",
       "      <td>ACKLIACO</td>\n",
       "      <td>NaN</td>\n",
       "      <td>NaN</td>\n",
       "      <td>NaN</td>\n",
       "      <td>NaN</td>\n",
       "      <td>NaN</td>\n",
       "      <td>NaN</td>\n",
       "      <td>NaN</td>\n",
       "    </tr>\n",
       "    <tr>\n",
       "      <th>3</th>\n",
       "      <td>OR</td>\n",
       "      <td>EUGENE OR</td>\n",
       "      <td>CORVALLIS, OR</td>\n",
       "      <td>5.0</td>\n",
       "      <td>ADAROR21</td>\n",
       "      <td>NaN</td>\n",
       "      <td>NaN</td>\n",
       "      <td>NaN</td>\n",
       "      <td>NaN</td>\n",
       "      <td>NaN</td>\n",
       "      <td>NaN</td>\n",
       "      <td>NaN</td>\n",
       "    </tr>\n",
       "    <tr>\n",
       "      <th>4</th>\n",
       "      <td>IA</td>\n",
       "      <td>DES MOINES-AMES IA</td>\n",
       "      <td>DES MOINES-WEST DES MOINES, IA</td>\n",
       "      <td>14.0</td>\n",
       "      <td>ADELIACO</td>\n",
       "      <td>NaN</td>\n",
       "      <td>NaN</td>\n",
       "      <td>NaN</td>\n",
       "      <td>NaN</td>\n",
       "      <td>NaN</td>\n",
       "      <td>NaN</td>\n",
       "      <td>NaN</td>\n",
       "    </tr>\n",
       "  </tbody>\n",
       "</table>\n",
       "</div>"
      ],
      "text/plain": [
       "  STATE                        DMA                            CBSA  \\\n",
       "0    SD  SIOUX FALLS (MITCHELL) SD                    ABERDEEN, SD   \n",
       "1    WA          SEATTLE-TACOMA WA                    ABERDEEN, WA   \n",
       "2    IA         DES MOINES-AMES IA                        NON-CBSA   \n",
       "3    OR                  EUGENE OR                   CORVALLIS, OR   \n",
       "4    IA         DES MOINES-AMES IA  DES MOINES-WEST DES MOINES, IA   \n",
       "\n",
       "   OPPORTUNITY_SCORE PRIMARY_WIRE_CENTER_ID CORE_READINESS  \\\n",
       "0                6.0               ABRDSDCO            NaN   \n",
       "1                8.0               ABRDWA01            NaN   \n",
       "2                NaN               ACKLIACO            NaN   \n",
       "3                5.0               ADAROR21            NaN   \n",
       "4               14.0               ADELIACO            NaN   \n",
       "\n",
       "   JAN-23_GPON_CONSTRUCTION_FUNDED_high  FEB-23_GPON_CONSTRUCTION_FUNDED_high  \\\n",
       "0                                   NaN                                   NaN   \n",
       "1                                   NaN                                   NaN   \n",
       "2                                   NaN                                   NaN   \n",
       "3                                   NaN                                   NaN   \n",
       "4                                   NaN                                   NaN   \n",
       "\n",
       "   MAR-23_GPON_CONSTRUCTION_FUNDED_high  MAY-23_GPON_CONSTRUCTION_FUNDED_high  \\\n",
       "0                                   NaN                                   NaN   \n",
       "1                                   NaN                                   NaN   \n",
       "2                                   NaN                                   NaN   \n",
       "3                                   NaN                                   NaN   \n",
       "4                                   NaN                                   NaN   \n",
       "\n",
       "   JUL-23_GPON_CONSTRUCTION_FUNDED_high  NOV-23_GPON_CONSTRUCTION_FUNDED_high  \n",
       "0                                   NaN                                   NaN  \n",
       "1                                   NaN                                   NaN  \n",
       "2                                   NaN                                   NaN  \n",
       "3                                   NaN                                   NaN  \n",
       "4                                   NaN                                   NaN  "
      ]
     },
     "execution_count": 18,
     "metadata": {},
     "output_type": "execute_result"
    }
   ],
   "source": [
    "wc_ora_df.head()"
   ]
  },
  {
   "cell_type": "code",
   "execution_count": 19,
   "id": "0f9e86ea",
   "metadata": {
    "scrolled": false
   },
   "outputs": [],
   "source": [
    "import time\n",
    "\n",
    "# export\n",
    "TodaysDate = time.strftime(\"%m%d%y\")\n",
    "excelfilename = \"Output/\" + TodaysDate +\"_GPON_high_confidence.xlsx\"\n",
    "\n",
    "with pd.ExcelWriter(excelfilename) as writer:  \n",
    "    wc_ora_df.to_excel(writer, sheet_name='Cumulative Data', index = False)"
   ]
  },
  {
   "cell_type": "code",
   "execution_count": null,
   "id": "0fd32d45",
   "metadata": {},
   "outputs": [],
   "source": []
  }
 ],
 "metadata": {
  "kernelspec": {
   "display_name": "Python 3 (ipykernel)",
   "language": "python",
   "name": "python3"
  },
  "language_info": {
   "codemirror_mode": {
    "name": "ipython",
    "version": 3
   },
   "file_extension": ".py",
   "mimetype": "text/x-python",
   "name": "python",
   "nbconvert_exporter": "python",
   "pygments_lexer": "ipython3",
   "version": "3.9.12"
  }
 },
 "nbformat": 4,
 "nbformat_minor": 5
}
