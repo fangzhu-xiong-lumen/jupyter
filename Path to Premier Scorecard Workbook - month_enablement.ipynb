{
 "cells": [
  {
   "cell_type": "code",
   "execution_count": 1,
   "id": "061b5417",
   "metadata": {},
   "outputs": [],
   "source": [
    "import os\n",
    "import sys\n",
    "import pandas as pd\n",
    "import numpy as np\n",
    "import cx_Oracle\n",
    "cx_Oracle.init_oracle_client(lib_dir=r\"C:\\Oracle\\instantclient_21_6\")"
   ]
  },
  {
   "cell_type": "code",
   "execution_count": 2,
   "id": "75dff916",
   "metadata": {},
   "outputs": [],
   "source": [
    "# FRAM001P\n",
    "conn = cx_Oracle.connect(\n",
    "    user=\"AD21236\",\n",
    "    password=\"L2022$Um\",\n",
    "    dsn=\"RACORAP08-SCAN.CORP.INTRANET/FRAM001P_PROD\",\n",
    "    encoding=\"UTF-8\")"
   ]
  },
  {
   "cell_type": "markdown",
   "id": "57401e87",
   "metadata": {},
   "source": [
    "## Getting enablement data"
   ]
  },
  {
   "cell_type": "code",
   "execution_count": null,
   "id": "3c20cfa4",
   "metadata": {},
   "outputs": [
    {
     "name": "stderr",
     "output_type": "stream",
     "text": [
      "C:\\Users\\AD21236\\Anaconda3\\lib\\site-packages\\pandas\\io\\sql.py:761: UserWarning: pandas only support SQLAlchemy connectable(engine/connection) ordatabase string URI or sqlite3 DBAPI2 connectionother DBAPI2 objects are not tested, please consider using SQLAlchemy\n",
      "  warnings.warn(\n",
      "C:\\Users\\AD21236\\Anaconda3\\lib\\site-packages\\pandas\\io\\sql.py:761: UserWarning: pandas only support SQLAlchemy connectable(engine/connection) ordatabase string URI or sqlite3 DBAPI2 connectionother DBAPI2 objects are not tested, please consider using SQLAlchemy\n",
      "  warnings.warn(\n"
     ]
    }
   ],
   "source": [
    "# XGS qualifications count at wire center level - manually update date filters every month and at the beginning of the year\n",
    "\n",
    "query = \"\"\"\n",
    "            WITH QD AS (\n",
    "            SELECT  \n",
    "                    O.LUID --count distinct LU id's\n",
    "                    ,O.STATE\n",
    "                    ,O.WIRE_CENTER_ID AS PRIMARY_WIRE_CENTER_ID\n",
    "                    ,O.ADDRESS\n",
    "                    ,O.UNI_SERVICETYPE\n",
    "                    ,O.OLT\n",
    "                    ,O.TECH_TYPE\n",
    "                    ,O.OLT_TYPE\n",
    "                    ,O.FSAI\n",
    "                    ,O.UNI_POLYGONID\n",
    "                    ,O.UNI_STATUS\n",
    "                    ,O.UNI_NDSJOBNUMBER\n",
    "                    ,O.UNI_FWRKSJOBNUMBER\n",
    "                    ,case when O.UNI_ECD >= '1-NOV-2022' and O.UNI_ECD < '1-DEC-2022' then 'Y' end as MONTH_CNT_YN\n",
    "                    ,case when O.UNI_ECD >= '1-JAN-2022' and O.UNI_ECD < '1-JAN-2023' then 'Y' end as YEAR_CNT_YN\n",
    "                    \n",
    "            FROM    LQSMO.LU_QUAL_O O\n",
    "            \n",
    "            WHERE   ADDRESS <> '7599 S WHEELING CT'\n",
    "                    AND (UNI_SERVICETYPE LIKE 'XGS%' \n",
    "                        OR TECH_TYPE LIKE 'XGS_PON' \n",
    "                        OR OLT_TYPE='ADTRAN-SDX6320-16-XGS-PON') \n",
    "                    AND uni_status='IN SERVICE'\n",
    "                    \n",
    "            )\n",
    "            \n",
    "            SELECT  STATE\n",
    "                    ,PRIMARY_WIRE_CENTER_ID\n",
    "                    ,count(distinct case when MONTH_CNT_YN = 'Y' then LUID end) as monthly_xgs_enabled_cnt\n",
    "                    ,count(distinct case when YEAR_CNT_YN = 'Y' then LUID end) as ytd_xgs_enabled_cnt\n",
    "                    ,count(distinct LUID) as cumulative_xgs_enabled_cnt\n",
    "                    \n",
    "            FROM    QD\n",
    "            \n",
    "            GROUP BY\n",
    "                    STATE\n",
    "                    ,PRIMARY_WIRE_CENTER_ID\n",
    "                    ,MONTH_CNT_YN\n",
    "                    ,YEAR_CNT_YN\n",
    "            \n",
    "\n",
    "                                \"\"\"\n",
    "\n",
    "query2 = \"\"\"\n",
    "            WITH QD AS (\n",
    "            SELECT  \n",
    "                    O.LUID\n",
    "                    ,O.STATE\n",
    "                    ,O.WIRE_CENTER_ID AS PRIMARY_WIRE_CENTER_ID\n",
    "                    ,O.UNI_NDSJOBNUMBER\n",
    "                    ,O.UNI_POLYGONID\n",
    "                    ,O.UNI_SERVICETYPE\n",
    "                    ,O.UNI_STATUS\n",
    "                    ,O.TECH_TYPE\n",
    "                    ,O.FSAI\n",
    "                    ,O.OLT_TYPE\n",
    "                    ,O.ADDRESS\n",
    "                    ,O.OLT\n",
    "                    ,O.UNI_ECD\n",
    "                    --O.*\n",
    "                    \n",
    "            FROM    LQSMO.LU_QUAL_O O\n",
    "            \n",
    "            WHERE   ADDRESS <> '7599 S WHEELING CT'\n",
    "                    AND (UNI_SERVICETYPE LIKE 'XGS%' \n",
    "                        OR TECH_TYPE LIKE 'XGS_PON' \n",
    "                        OR OLT_TYPE='ADTRAN-SDX6320-16-XGS-PON') \n",
    "                    AND uni_status='IN SERVICE'\n",
    "                    AND uni_ecd >= '1-JAN-2022' --'1-JAN-2023' \n",
    "            )\n",
    "            \n",
    "            SELECT  *\n",
    "                    \n",
    "            FROM    QD\n",
    "\n",
    "                                \"\"\"\n",
    "\n",
    "df_ora = pd.read_sql(query, con=conn)\n",
    "df_ora_details = pd.read_sql(query2, con=conn)"
   ]
  },
  {
   "cell_type": "code",
   "execution_count": null,
   "id": "75328e50",
   "metadata": {},
   "outputs": [],
   "source": [
    "%%time\n",
    "\n",
    "# count of MG enabled LUs at wire center level - manually update date filters\n",
    "# 10/10/22 - update multigig enablement date to reflect mg turn up date\n",
    "\n",
    "mg_query = \"\"\"\n",
    "           \n",
    "           WITH MG_DATES AS (\n",
    "            SELECT  \n",
    "                    O.LUID\n",
    "                    ,O.STATE\n",
    "                    ,O.WIRE_CENTER_ID AS PRIMARY_WIRE_CENTER_ID\n",
    "                    ,O.ADDRESS\n",
    "                    ,O.UNI_SERVICETYPE\n",
    "                    ,O.OLT\n",
    "                    ,O.TECH_TYPE\n",
    "                    ,O.OLT_TYPE\n",
    "                    ,O.FSAI\n",
    "                    ,O.UNI_POLYGONID\n",
    "                    ,O.UNI_STATUS\n",
    "                    ,O.UNI_NDSJOBNUMBER\n",
    "                    ,O.UNI_FWRKSJOBNUMBER\n",
    "                    ,case when O.UNI_POLYGONID in ('1179498','1179547','1179121','1179499') then to_date('30-SEP-2022', 'DD-MON-YYYY')\n",
    "                          when O.UNI_POLYGONID in ('1179687','1179674') then to_date('10-OCT-2022', 'DD-MON-YYYY')\n",
    "                          when O.UNI_POLYGONID in ('1179569','1179553','1179688') then to_date('14-OCT-2022', 'DD-MON-YYYY')\n",
    "                          when O.UNI_POLYGONID in ('1179864','1180012') then to_date('15-OCT-2022', 'DD-MON-YYYY')\n",
    "                          when O.UNI_POLYGONID in ('1179808','1179862','1179836','1179604','1179838','1179887','1180054','1180222','1179157','1179574') then to_date('21-OCT-2022','DD-MON-YYYY')\n",
    "                          when O.UNI_POLYGONID in ('1180028','1180254','1179583') then to_date('27-OCT-2022', 'DD-MON-YYYY')\n",
    "                          when O.UNI_POLYGONID in ('1179976') then to_date('28-OCT-2022', 'DD-MON-YYYY')\n",
    "                          else O.UNI_ECD end\n",
    "                          AS UNI_ECD\n",
    "                    \n",
    "            FROM    LQSMO.LU_QUAL_O O\n",
    "            \n",
    "            WHERE   ADDRESS <> '7599 S WHEELING CT'\n",
    "                    AND (UNI_SERVICETYPE LIKE 'XGS%' \n",
    "                        OR TECH_TYPE LIKE 'XGS_PON' \n",
    "                        OR OLT_TYPE='ADTRAN-SDX6320-16-XGS-PON') \n",
    "                    AND uni_status='IN SERVICE'\n",
    "                    AND UNI_POLYGONID in ('1178832','1178694','1178144',\n",
    "                                          '1179498','1179547','1179121','1179499',  --Phoenix AZ turned up 9/30/22\n",
    "                                          '1179687','1179674', -- Golden CO turned up 10/10/22\n",
    "                                          '1180012', -- portland OR turned up 10/15/22\n",
    "                                          '1179864', -- denver CO turned up 10/15/22\n",
    "                                          '1179569','1179553','1179688', -- st paul and mn turned up 10/14/22\n",
    "                                          '1179808', -- turned up 10/21/22\n",
    "                                          '1179862','1179836','1179604','1179838','1179887','1180054','1180222', --turned up 10/21/22\n",
    "                                          '1179157','1179574', -- turned up 10/21/22\n",
    "                                          '1180028','1180254','1179583', -- turned up 10/27/22\n",
    "                                          '1179976' -- turned up 10/28/22\n",
    "                                          ) --add in MG polygon IDs here\n",
    "                    \n",
    "            ),\n",
    "            QD AS (\n",
    "            \n",
    "            SELECT  LUID\n",
    "                    ,STATE\n",
    "                    ,PRIMARY_WIRE_CENTER_ID\n",
    "                    ,ADDRESS\n",
    "                    ,UNI_SERVICETYPE\n",
    "                    ,OLT\n",
    "                    ,TECH_TYPE\n",
    "                    ,OLT_TYPE\n",
    "                    ,FSAI\n",
    "                    ,UNI_POLYGONID\n",
    "                    ,UNI_STATUS\n",
    "                    ,UNI_NDSJOBNUMBER\n",
    "                    ,UNI_FWRKSJOBNUMBER\n",
    "                    ,case when UNI_ECD >= '1-NOV-2022' and UNI_ECD < '1-DEC-2022' then 'Y' end as MONTH_CNT_YN\n",
    "                    ,case when UNI_ECD >= '1-JAN-2022' and UNI_ECD < '1-JAN-2023' then 'Y' end as YEAR_CNT_YN\n",
    "                    \n",
    "            FROM MG_DATES\n",
    "            \n",
    "            )\n",
    "            \n",
    "            SELECT  STATE\n",
    "                    ,PRIMARY_WIRE_CENTER_ID\n",
    "                    ,count(distinct case when MONTH_CNT_YN = 'Y' then LUID end) as monthly_mg_enabled_cnt\n",
    "                    ,count(distinct case when YEAR_CNT_YN = 'Y' then LUID end) as ytd_mg_enabled_cnt\n",
    "                    ,count(distinct LUID) as cumulative_mg_enabled_cnt\n",
    "                    \n",
    "            FROM    QD\n",
    "            \n",
    "            GROUP BY\n",
    "                    STATE\n",
    "                    ,PRIMARY_WIRE_CENTER_ID\n",
    "                    ,MONTH_CNT_YN\n",
    "                    ,YEAR_CNT_YN\n",
    "\n",
    "\n",
    "\"\"\"\n",
    "\n",
    "mg_lu_ora = pd.read_sql(mg_query, con=conn) #contains total lu at wc level"
   ]
  },
  {
   "cell_type": "code",
   "execution_count": null,
   "id": "68e5ced8",
   "metadata": {},
   "outputs": [],
   "source": [
    "mg_lu_ora.groupby(['STATE'], as_index = False).sum()"
   ]
  },
  {
   "cell_type": "code",
   "execution_count": null,
   "id": "a95e7043",
   "metadata": {},
   "outputs": [],
   "source": [
    "# sum queries at wire center level - add mg flag according to mg enablement or core network status\n",
    "xgs_enablement_wc = df_ora.groupby(['STATE','PRIMARY_WIRE_CENTER_ID'], as_index = False).sum()\n",
    "mg_enablement_wc = mg_lu_ora.groupby(['STATE','PRIMARY_WIRE_CENTER_ID'], as_index = False).sum()"
   ]
  },
  {
   "cell_type": "code",
   "execution_count": null,
   "id": "21255030",
   "metadata": {},
   "outputs": [],
   "source": [
    "# merge xgs and mg enablement\n",
    "luqual_enablement_df = xgs_enablement_wc.merge(mg_enablement_wc, how = 'outer', on = ['STATE','PRIMARY_WIRE_CENTER_ID']).fillna(0)\n",
    "luqual_enablement_df_save = luqual_enablement_df.copy() #save copy"
   ]
  },
  {
   "cell_type": "code",
   "execution_count": null,
   "id": "b2d1e286",
   "metadata": {},
   "outputs": [],
   "source": [
    "luqual_enablement_df"
   ]
  },
  {
   "cell_type": "code",
   "execution_count": null,
   "id": "3a63e35f",
   "metadata": {},
   "outputs": [],
   "source": [
    "# check data\n",
    "scorecard_view = luqual_enablement_df[['STATE','CUMULATIVE_XGS_ENABLED_CNT','CUMULATIVE_MG_ENABLED_CNT','MONTHLY_XGS_ENABLED_CNT','MONTHLY_MG_ENABLED_CNT']].groupby(['STATE'], as_index = False).sum()"
   ]
  },
  {
   "cell_type": "code",
   "execution_count": null,
   "id": "8605d34c",
   "metadata": {},
   "outputs": [],
   "source": [
    "# import salesforce summary to get active subs\n",
    "sf_df_xgs_sum = pd.read_excel(r'SalesforceReportExport/Salesforce_Summary.xlsx',sheet_name = 'State_Summary', skiprows=[0,1])\n",
    "sf_df_mg_sum = pd.read_excel(r'SalesforceReportExport/Salesforce_Summary.xlsx',sheet_name = 'MultiGig_State_Summary', skiprows=[0,1]) "
   ]
  },
  {
   "cell_type": "code",
   "execution_count": null,
   "id": "d8025e50",
   "metadata": {},
   "outputs": [],
   "source": [
    "sf_df_xgs_sum = sf_df_xgs_sum[['STATE','Total Active Subscribers']].rename(columns = {'Total Active Subscribers':'Total_XGS_Active_subs'})\n",
    "sf_df_mg_sum = sf_df_mg_sum[['STATE','Total Active Subscribers']].rename(columns = {'Total Active Subscribers':'Total_MG_Active_subs'})\n",
    "salesforce_subscribers_summary = sf_df_xgs_sum.merge(sf_df_mg_sum, how = 'left', on = 'STATE')\n",
    "salesforce_subscribers_summary = salesforce_subscribers_summary.loc[salesforce_subscribers_summary['STATE']!=0,:]"
   ]
  },
  {
   "cell_type": "code",
   "execution_count": null,
   "id": "75e25652",
   "metadata": {},
   "outputs": [],
   "source": [
    "scorecard_view = scorecard_view.merge(salesforce_subscribers_summary, on = 'STATE', how = 'left')"
   ]
  },
  {
   "cell_type": "code",
   "execution_count": null,
   "id": "41578462",
   "metadata": {},
   "outputs": [],
   "source": [
    "scorecard_view.loc['Total'] = scorecard_view.sum(numeric_only=True)"
   ]
  },
  {
   "cell_type": "code",
   "execution_count": null,
   "id": "f46de1c4",
   "metadata": {},
   "outputs": [],
   "source": [
    "scorecard_view.to_excel('Path_To_Premier_Summary.xlsx')"
   ]
  },
  {
   "cell_type": "code",
   "execution_count": null,
   "id": "2df7817e",
   "metadata": {},
   "outputs": [],
   "source": []
  }
 ],
 "metadata": {
  "kernelspec": {
   "display_name": "Python 3 (ipykernel)",
   "language": "python",
   "name": "python3"
  },
  "language_info": {
   "codemirror_mode": {
    "name": "ipython",
    "version": 3
   },
   "file_extension": ".py",
   "mimetype": "text/x-python",
   "name": "python",
   "nbconvert_exporter": "python",
   "pygments_lexer": "ipython3",
   "version": "3.9.12"
  }
 },
 "nbformat": 4,
 "nbformat_minor": 5
}
