{
 "cells": [
  {
   "cell_type": "markdown",
   "id": "9156e1f1",
   "metadata": {},
   "source": [
    "This workbook takes construction funding data from Power BI and exports summarized data"
   ]
  },
  {
   "cell_type": "code",
   "execution_count": 14,
   "id": "09125f94",
   "metadata": {},
   "outputs": [
    {
     "ename": "ProgrammingError",
     "evalue": "Oracle Client library has already been initialized",
     "output_type": "error",
     "traceback": [
      "\u001b[1;31m---------------------------------------------------------------------------\u001b[0m",
      "\u001b[1;31mProgrammingError\u001b[0m                          Traceback (most recent call last)",
      "Input \u001b[1;32mIn [14]\u001b[0m, in \u001b[0;36m<cell line: 6>\u001b[1;34m()\u001b[0m\n\u001b[0;32m      4\u001b[0m \u001b[38;5;28;01mimport\u001b[39;00m \u001b[38;5;21;01mnumpy\u001b[39;00m \u001b[38;5;28;01mas\u001b[39;00m \u001b[38;5;21;01mnp\u001b[39;00m\n\u001b[0;32m      5\u001b[0m \u001b[38;5;28;01mimport\u001b[39;00m \u001b[38;5;21;01mcx_Oracle\u001b[39;00m\n\u001b[1;32m----> 6\u001b[0m \u001b[43mcx_Oracle\u001b[49m\u001b[38;5;241;43m.\u001b[39;49m\u001b[43minit_oracle_client\u001b[49m\u001b[43m(\u001b[49m\u001b[43mlib_dir\u001b[49m\u001b[38;5;241;43m=\u001b[39;49m\u001b[38;5;124;43mr\u001b[39;49m\u001b[38;5;124;43m\"\u001b[39;49m\u001b[38;5;124;43mC:\u001b[39;49m\u001b[38;5;124;43m\\\u001b[39;49m\u001b[38;5;124;43mOracle\u001b[39;49m\u001b[38;5;124;43m\\\u001b[39;49m\u001b[38;5;124;43minstantclient_21_6\u001b[39;49m\u001b[38;5;124;43m\"\u001b[39;49m\u001b[43m)\u001b[49m\n",
      "\u001b[1;31mProgrammingError\u001b[0m: Oracle Client library has already been initialized"
     ]
    }
   ],
   "source": [
    "import os\n",
    "import sys\n",
    "import pandas as pd\n",
    "import numpy as np\n",
    "import cx_Oracle\n",
    "cx_Oracle.init_oracle_client(lib_dir=r\"C:\\Oracle\\instantclient_21_6\")"
   ]
  },
  {
   "cell_type": "code",
   "execution_count": 63,
   "id": "fc6787cf",
   "metadata": {},
   "outputs": [
    {
     "name": "stderr",
     "output_type": "stream",
     "text": [
      "C:\\Users\\AD21236\\Anaconda3\\lib\\site-packages\\openpyxl\\styles\\stylesheet.py:226: UserWarning: Workbook contains no default style, apply openpyxl's default\n",
      "  warn(\"Workbook contains no default style, apply openpyxl's default\")\n"
     ]
    }
   ],
   "source": [
    "#Import Funding data\n",
    "Construction_details_base_df = pd.read_excel(r'FundingDetailsExport/Details_Export_Table.xlsx',sheet_name = 'Export')\n",
    "Construction_Funding_df = Construction_details_base_df.copy()"
   ]
  },
  {
   "cell_type": "code",
   "execution_count": 64,
   "id": "edc01a39",
   "metadata": {},
   "outputs": [],
   "source": [
    "# get current month data only - manually adjust date\n",
    "Construction_Funding_df = Construction_Funding_df.loc[(Construction_Funding_df['PHASE_ECD_LOGIC']>='10/1/2022') & (Construction_Funding_df['PHASE_ECD_LOGIC']<'11/1/2022'),:]"
   ]
  },
  {
   "cell_type": "code",
   "execution_count": 65,
   "id": "389d4506",
   "metadata": {},
   "outputs": [],
   "source": [
    "# Construction_Funding_df = Construction_Funding_df.loc[Construction_Funding_df['PHASE_ECD_LOGIC'] >= '1-JAN-2022',[\"PRIMARY_WIRE_CENTER_ID\", \"PHASE_ECD_LOGIC\", \"PHASE_NUM_OF_LUS\"]].dropna(subset=[\"PRIMARY_WIRE_CENTER_ID\"])\n",
    "Construction_Funding_df = Construction_Funding_df[[\"PRIMARY_WIRE_CENTER_ID\", \"PHASE_ECD_LOGIC\", \"PHASE_NUM_OF_LUS\"]].dropna(subset=[\"PRIMARY_WIRE_CENTER_ID\"])\n",
    "Construction_Funding_df['PHASE_ECD_LOGIC'] = Construction_Funding_df['PHASE_ECD_LOGIC'].dt.to_period('M')\n",
    "Construction_Funding_df['PHASE_ECD_LOGIC'] = Construction_Funding_df['PHASE_ECD_LOGIC'].astype(str)\n",
    "Construction_pivot = Construction_Funding_df.groupby(by = [\"PRIMARY_WIRE_CENTER_ID\",\"PHASE_ECD_LOGIC\"], as_index = False).sum()\n",
    "Construction_pivot = Construction_pivot.pivot(index='PRIMARY_WIRE_CENTER_ID', columns='PHASE_ECD_LOGIC')['PHASE_NUM_OF_LUS'].reset_index()\n",
    "Construction_pivot = Construction_pivot.fillna(0)"
   ]
  },
  {
   "cell_type": "code",
   "execution_count": 66,
   "id": "3a29e767",
   "metadata": {},
   "outputs": [
    {
     "data": {
      "text/html": [
       "<div>\n",
       "<style scoped>\n",
       "    .dataframe tbody tr th:only-of-type {\n",
       "        vertical-align: middle;\n",
       "    }\n",
       "\n",
       "    .dataframe tbody tr th {\n",
       "        vertical-align: top;\n",
       "    }\n",
       "\n",
       "    .dataframe thead th {\n",
       "        text-align: right;\n",
       "    }\n",
       "</style>\n",
       "<table border=\"1\" class=\"dataframe\">\n",
       "  <thead>\n",
       "    <tr style=\"text-align: right;\">\n",
       "      <th>PHASE_ECD_LOGIC</th>\n",
       "      <th>PRIMARY_WIRE_CENTER_ID</th>\n",
       "      <th>2022-10</th>\n",
       "    </tr>\n",
       "  </thead>\n",
       "  <tbody>\n",
       "    <tr>\n",
       "      <th>0</th>\n",
       "      <td>CLSPCOMA</td>\n",
       "      <td>653.0</td>\n",
       "    </tr>\n",
       "    <tr>\n",
       "      <th>1</th>\n",
       "      <td>CLSPCOPV</td>\n",
       "      <td>1342.0</td>\n",
       "    </tr>\n",
       "    <tr>\n",
       "      <th>2</th>\n",
       "      <td>CPCRFLXB</td>\n",
       "      <td>6115.0</td>\n",
       "    </tr>\n",
       "    <tr>\n",
       "      <th>3</th>\n",
       "      <td>CRYSMNCR</td>\n",
       "      <td>412.0</td>\n",
       "    </tr>\n",
       "    <tr>\n",
       "      <th>4</th>\n",
       "      <td>CSRKCONM</td>\n",
       "      <td>87.0</td>\n",
       "    </tr>\n",
       "  </tbody>\n",
       "</table>\n",
       "</div>"
      ],
      "text/plain": [
       "PHASE_ECD_LOGIC PRIMARY_WIRE_CENTER_ID  2022-10\n",
       "0                             CLSPCOMA    653.0\n",
       "1                             CLSPCOPV   1342.0\n",
       "2                             CPCRFLXB   6115.0\n",
       "3                             CRYSMNCR    412.0\n",
       "4                             CSRKCONM     87.0"
      ]
     },
     "execution_count": 66,
     "metadata": {},
     "output_type": "execute_result"
    }
   ],
   "source": [
    "# check this before manual date update below\n",
    "Construction_pivot.head()"
   ]
  },
  {
   "cell_type": "code",
   "execution_count": 67,
   "id": "76d23134",
   "metadata": {},
   "outputs": [],
   "source": [
    "# manually update date\n",
    "Construction_pivot['MONTH'] = Construction_pivot['2022-10']"
   ]
  },
  {
   "cell_type": "code",
   "execution_count": 68,
   "id": "09b9fef8",
   "metadata": {},
   "outputs": [
    {
     "data": {
      "text/html": [
       "<div>\n",
       "<style scoped>\n",
       "    .dataframe tbody tr th:only-of-type {\n",
       "        vertical-align: middle;\n",
       "    }\n",
       "\n",
       "    .dataframe tbody tr th {\n",
       "        vertical-align: top;\n",
       "    }\n",
       "\n",
       "    .dataframe thead th {\n",
       "        text-align: right;\n",
       "    }\n",
       "</style>\n",
       "<table border=\"1\" class=\"dataframe\">\n",
       "  <thead>\n",
       "    <tr style=\"text-align: right;\">\n",
       "      <th>PHASE_ECD_LOGIC</th>\n",
       "      <th>PRIMARY_WIRE_CENTER_ID</th>\n",
       "      <th>2022-10</th>\n",
       "      <th>MONTH</th>\n",
       "    </tr>\n",
       "  </thead>\n",
       "  <tbody>\n",
       "    <tr>\n",
       "      <th>0</th>\n",
       "      <td>CLSPCOMA</td>\n",
       "      <td>653.0</td>\n",
       "      <td>653.0</td>\n",
       "    </tr>\n",
       "    <tr>\n",
       "      <th>1</th>\n",
       "      <td>CLSPCOPV</td>\n",
       "      <td>1342.0</td>\n",
       "      <td>1342.0</td>\n",
       "    </tr>\n",
       "    <tr>\n",
       "      <th>2</th>\n",
       "      <td>CPCRFLXB</td>\n",
       "      <td>6115.0</td>\n",
       "      <td>6115.0</td>\n",
       "    </tr>\n",
       "    <tr>\n",
       "      <th>3</th>\n",
       "      <td>CRYSMNCR</td>\n",
       "      <td>412.0</td>\n",
       "      <td>412.0</td>\n",
       "    </tr>\n",
       "    <tr>\n",
       "      <th>4</th>\n",
       "      <td>CSRKCONM</td>\n",
       "      <td>87.0</td>\n",
       "      <td>87.0</td>\n",
       "    </tr>\n",
       "  </tbody>\n",
       "</table>\n",
       "</div>"
      ],
      "text/plain": [
       "PHASE_ECD_LOGIC PRIMARY_WIRE_CENTER_ID  2022-10   MONTH\n",
       "0                             CLSPCOMA    653.0   653.0\n",
       "1                             CLSPCOPV   1342.0  1342.0\n",
       "2                             CPCRFLXB   6115.0  6115.0\n",
       "3                             CRYSMNCR    412.0   412.0\n",
       "4                             CSRKCONM     87.0    87.0"
      ]
     },
     "execution_count": 68,
     "metadata": {},
     "output_type": "execute_result"
    }
   ],
   "source": [
    "Construction_pivot.head() # contains construction funded info"
   ]
  },
  {
   "cell_type": "code",
   "execution_count": 69,
   "id": "84b7b84b",
   "metadata": {},
   "outputs": [],
   "source": [
    "# Import opportunity scores\n",
    "OppScore_df = pd.read_excel(r'Inputs/CLLI_ZIP_XREF_WEIGHTED_SCORE.xlsx',sheet_name = 'Final')\n",
    "\n",
    "# Import core status multigig readiness\n",
    "MGR_df = pd.read_excel(r'Inputs/102022_OpportunityScore_MultiGig_Readiness.xlsx',sheet_name = 'Datasheet')\n"
   ]
  },
  {
   "cell_type": "code",
   "execution_count": 70,
   "id": "02d0ce7f",
   "metadata": {},
   "outputs": [],
   "source": [
    "OppScore_df = OppScore_df.rename(columns = {'CLLI': 'PRIMARY_WIRE_CENTER_ID'})\n",
    "OppScore_df = OppScore_df[['PRIMARY_WIRE_CENTER_ID','Weighted Opportunity Score']]"
   ]
  },
  {
   "cell_type": "code",
   "execution_count": 71,
   "id": "301f1332",
   "metadata": {},
   "outputs": [],
   "source": [
    "Construction_pivot = Construction_pivot.merge(OppScore_df, how = 'left', on = 'PRIMARY_WIRE_CENTER_ID')"
   ]
  },
  {
   "cell_type": "code",
   "execution_count": 72,
   "id": "f8f8842f",
   "metadata": {},
   "outputs": [],
   "source": [
    "MGR_df = MGR_df[['PRIMARY_WIRE_CENTER_ID','STATE','Core Status','Cost for Multi-Gig']]"
   ]
  },
  {
   "cell_type": "code",
   "execution_count": 73,
   "id": "fbe17e22",
   "metadata": {},
   "outputs": [],
   "source": [
    "Construction_final = Construction_pivot.merge(MGR_df, how = 'left', on = 'PRIMARY_WIRE_CENTER_ID')"
   ]
  },
  {
   "cell_type": "code",
   "execution_count": 74,
   "id": "50c34771",
   "metadata": {},
   "outputs": [],
   "source": [
    "Construction_final = Construction_final.rename(columns = {'Weighted Opportunity Score': 'OPPORTUNITY_SCORE',\n",
    "                                     'Core Status': 'CORE_STATUS',\n",
    "                                     'Cost for Multi-Gig': 'COST_FOR_MULTIGIG'})\n",
    "Construction_final['CORE_STATUS'] = Construction_final['CORE_STATUS'].fillna('Not in MultiGig Readiness Worksheet')"
   ]
  },
  {
   "cell_type": "code",
   "execution_count": 75,
   "id": "060f4f65",
   "metadata": {},
   "outputs": [
    {
     "data": {
      "text/html": [
       "<div>\n",
       "<style scoped>\n",
       "    .dataframe tbody tr th:only-of-type {\n",
       "        vertical-align: middle;\n",
       "    }\n",
       "\n",
       "    .dataframe tbody tr th {\n",
       "        vertical-align: top;\n",
       "    }\n",
       "\n",
       "    .dataframe thead th {\n",
       "        text-align: right;\n",
       "    }\n",
       "</style>\n",
       "<table border=\"1\" class=\"dataframe\">\n",
       "  <thead>\n",
       "    <tr style=\"text-align: right;\">\n",
       "      <th></th>\n",
       "      <th>PRIMARY_WIRE_CENTER_ID</th>\n",
       "      <th>2022-10</th>\n",
       "      <th>MONTH</th>\n",
       "      <th>OPPORTUNITY_SCORE</th>\n",
       "      <th>STATE</th>\n",
       "      <th>CORE_STATUS</th>\n",
       "      <th>COST_FOR_MULTIGIG</th>\n",
       "    </tr>\n",
       "  </thead>\n",
       "  <tbody>\n",
       "    <tr>\n",
       "      <th>0</th>\n",
       "      <td>CLSPCOMA</td>\n",
       "      <td>653.0</td>\n",
       "      <td>653.0</td>\n",
       "      <td>13</td>\n",
       "      <td>CO</td>\n",
       "      <td>MultiGIG</td>\n",
       "      <td>75000.0</td>\n",
       "    </tr>\n",
       "    <tr>\n",
       "      <th>1</th>\n",
       "      <td>CLSPCOPV</td>\n",
       "      <td>1342.0</td>\n",
       "      <td>1342.0</td>\n",
       "      <td>10</td>\n",
       "      <td>CO</td>\n",
       "      <td>MultiGIG</td>\n",
       "      <td>150000.0</td>\n",
       "    </tr>\n",
       "    <tr>\n",
       "      <th>2</th>\n",
       "      <td>CPCRFLXB</td>\n",
       "      <td>6115.0</td>\n",
       "      <td>6115.0</td>\n",
       "      <td>9</td>\n",
       "      <td>FL</td>\n",
       "      <td>940M Only</td>\n",
       "      <td>75000.0</td>\n",
       "    </tr>\n",
       "    <tr>\n",
       "      <th>3</th>\n",
       "      <td>CRYSMNCR</td>\n",
       "      <td>412.0</td>\n",
       "      <td>412.0</td>\n",
       "      <td>13</td>\n",
       "      <td>MN</td>\n",
       "      <td>MultiGIG</td>\n",
       "      <td>50000.0</td>\n",
       "    </tr>\n",
       "    <tr>\n",
       "      <th>4</th>\n",
       "      <td>CSRKCONM</td>\n",
       "      <td>87.0</td>\n",
       "      <td>87.0</td>\n",
       "      <td>14</td>\n",
       "      <td>CO</td>\n",
       "      <td>MultiGIG</td>\n",
       "      <td>0.0</td>\n",
       "    </tr>\n",
       "  </tbody>\n",
       "</table>\n",
       "</div>"
      ],
      "text/plain": [
       "  PRIMARY_WIRE_CENTER_ID  2022-10   MONTH  OPPORTUNITY_SCORE STATE  \\\n",
       "0               CLSPCOMA    653.0   653.0                 13    CO   \n",
       "1               CLSPCOPV   1342.0  1342.0                 10    CO   \n",
       "2               CPCRFLXB   6115.0  6115.0                  9    FL   \n",
       "3               CRYSMNCR    412.0   412.0                 13    MN   \n",
       "4               CSRKCONM     87.0    87.0                 14    CO   \n",
       "\n",
       "  CORE_STATUS  COST_FOR_MULTIGIG  \n",
       "0    MultiGIG            75000.0  \n",
       "1    MultiGIG           150000.0  \n",
       "2   940M Only            75000.0  \n",
       "3    MultiGIG            50000.0  \n",
       "4    MultiGIG                0.0  "
      ]
     },
     "execution_count": 75,
     "metadata": {},
     "output_type": "execute_result"
    }
   ],
   "source": [
    "Construction_final.head()"
   ]
  },
  {
   "cell_type": "code",
   "execution_count": 76,
   "id": "0c63ace2",
   "metadata": {},
   "outputs": [],
   "source": [
    "# separate into MG and non-MG data, filter out data with no opportunity score\n",
    "mg_mask = (Construction_final['CORE_STATUS'] == 'MultiGIG') & (Construction_final['OPPORTUNITY_SCORE'] > 0)\n",
    "non_mg_mask = (Construction_final['CORE_STATUS'] != 'MultiGIG') & (Construction_final['OPPORTUNITY_SCORE'] > 0)\n",
    "\n",
    "MGR = Construction_final[mg_mask]\n",
    "NMGR = Construction_final[non_mg_mask]"
   ]
  },
  {
   "cell_type": "code",
   "execution_count": 77,
   "id": "f6ecdd6f",
   "metadata": {},
   "outputs": [
    {
     "name": "stderr",
     "output_type": "stream",
     "text": [
      "C:\\Windows\\Temp\\ipykernel_12840\\1141439409.py:11: SettingWithCopyWarning: \n",
      "A value is trying to be set on a copy of a slice from a DataFrame.\n",
      "Try using .loc[row_indexer,col_indexer] = value instead\n",
      "\n",
      "See the caveats in the documentation: https://pandas.pydata.org/pandas-docs/stable/user_guide/indexing.html#returning-a-view-versus-a-copy\n",
      "  MGR['OPPORTUNITY_SCORE_TIER'] = np.select(conditions, values)\n"
     ]
    }
   ],
   "source": [
    "# Create Opportunity Score Range for MG\n",
    "\n",
    "conditions = [\n",
    "    (MGR['OPPORTUNITY_SCORE'] >= 12),\n",
    "    (MGR['OPPORTUNITY_SCORE'] >= 9) & (MGR['OPPORTUNITY_SCORE'] < 12),\n",
    "    (MGR['OPPORTUNITY_SCORE'] < 9)\n",
    "    ]\n",
    "\n",
    "values = ['HIGH', 'MEDIUM', 'LOW']\n",
    "\n",
    "MGR['OPPORTUNITY_SCORE_TIER'] = np.select(conditions, values)"
   ]
  },
  {
   "cell_type": "code",
   "execution_count": 78,
   "id": "57d63d18",
   "metadata": {},
   "outputs": [
    {
     "name": "stderr",
     "output_type": "stream",
     "text": [
      "C:\\Windows\\Temp\\ipykernel_12840\\2461150363.py:11: SettingWithCopyWarning: \n",
      "A value is trying to be set on a copy of a slice from a DataFrame.\n",
      "Try using .loc[row_indexer,col_indexer] = value instead\n",
      "\n",
      "See the caveats in the documentation: https://pandas.pydata.org/pandas-docs/stable/user_guide/indexing.html#returning-a-view-versus-a-copy\n",
      "  NMGR['OPPORTUNITY_SCORE_TIER'] = np.select(conditions, values)\n"
     ]
    }
   ],
   "source": [
    "# Create Opportunity Score Range for non-MG\n",
    "\n",
    "conditions = [\n",
    "    (NMGR['OPPORTUNITY_SCORE'] >= 12),\n",
    "    (NMGR['OPPORTUNITY_SCORE'] >= 9) & (NMGR['OPPORTUNITY_SCORE'] < 12),\n",
    "    (NMGR['OPPORTUNITY_SCORE'] < 9)\n",
    "    ]\n",
    "\n",
    "values = ['HIGH', 'MEDIUM', 'LOW']\n",
    "\n",
    "NMGR['OPPORTUNITY_SCORE_TIER'] = np.select(conditions, values)"
   ]
  },
  {
   "cell_type": "markdown",
   "id": "dae05dd3",
   "metadata": {},
   "source": [
    "## Code optimization start"
   ]
  },
  {
   "cell_type": "markdown",
   "id": "b658c7ed",
   "metadata": {},
   "source": [
    "Non-MultiGig tables outputs start here"
   ]
  },
  {
   "cell_type": "code",
   "execution_count": 79,
   "id": "7169c2bb",
   "metadata": {},
   "outputs": [],
   "source": [
    "NMGR_summary_combination = NMGR[[\"STATE\",\"PRIMARY_WIRE_CENTER_ID\",\"OPPORTUNITY_SCORE_TIER\",\"MONTH\"]]"
   ]
  },
  {
   "cell_type": "code",
   "execution_count": 80,
   "id": "15dd1f03",
   "metadata": {},
   "outputs": [
    {
     "name": "stderr",
     "output_type": "stream",
     "text": [
      "C:\\Windows\\Temp\\ipykernel_12840\\4242446084.py:2: SettingWithCopyWarning: \n",
      "A value is trying to be set on a copy of a slice from a DataFrame.\n",
      "Try using .loc[row_indexer,col_indexer] = value instead\n",
      "\n",
      "See the caveats in the documentation: https://pandas.pydata.org/pandas-docs/stable/user_guide/indexing.html#returning-a-view-versus-a-copy\n",
      "  NMGR_summary_combination[\"High Opportunity WC Count\"] = np.where(NMGR_summary_combination[\"OPPORTUNITY_SCORE_TIER\"]==\"HIGH\",1,0)\n",
      "C:\\Windows\\Temp\\ipykernel_12840\\4242446084.py:3: SettingWithCopyWarning: \n",
      "A value is trying to be set on a copy of a slice from a DataFrame.\n",
      "Try using .loc[row_indexer,col_indexer] = value instead\n",
      "\n",
      "See the caveats in the documentation: https://pandas.pydata.org/pandas-docs/stable/user_guide/indexing.html#returning-a-view-versus-a-copy\n",
      "  NMGR_summary_combination[\"Medium Opportunity WC Count\"] = np.where(NMGR_summary_combination[\"OPPORTUNITY_SCORE_TIER\"]==\"MEDIUM\",1,0)\n",
      "C:\\Windows\\Temp\\ipykernel_12840\\4242446084.py:4: SettingWithCopyWarning: \n",
      "A value is trying to be set on a copy of a slice from a DataFrame.\n",
      "Try using .loc[row_indexer,col_indexer] = value instead\n",
      "\n",
      "See the caveats in the documentation: https://pandas.pydata.org/pandas-docs/stable/user_guide/indexing.html#returning-a-view-versus-a-copy\n",
      "  NMGR_summary_combination[\"Low Opportunity WC Count\"] = np.where(NMGR_summary_combination[\"OPPORTUNITY_SCORE_TIER\"]==\"LOW\",1,0)\n"
     ]
    }
   ],
   "source": [
    "# add wire centers count columns\n",
    "NMGR_summary_combination[\"High Opportunity WC Count\"] = np.where(NMGR_summary_combination[\"OPPORTUNITY_SCORE_TIER\"]==\"HIGH\",1,0)\n",
    "NMGR_summary_combination[\"Medium Opportunity WC Count\"] = np.where(NMGR_summary_combination[\"OPPORTUNITY_SCORE_TIER\"]==\"MEDIUM\",1,0)\n",
    "NMGR_summary_combination[\"Low Opportunity WC Count\"] = np.where(NMGR_summary_combination[\"OPPORTUNITY_SCORE_TIER\"]==\"LOW\",1,0)\n",
    "\n",
    "# add lu count columns\n",
    "NMGR_summary_combination[\"High Opportunity LU Count\"] = np.where(NMGR_summary_combination[\"OPPORTUNITY_SCORE_TIER\"]==\"HIGH\",NMGR_summary_combination[\"MONTH\"],0)\n",
    "NMGR_summary_combination[\"Medium Opportunity LU Count\"] = np.where(NMGR_summary_combination[\"OPPORTUNITY_SCORE_TIER\"]==\"MEDIUM\",NMGR_summary_combination[\"MONTH\"],0)\n",
    "NMGR_summary_combination[\"Low Opportunity LU Count\"] = np.where(NMGR_summary_combination[\"OPPORTUNITY_SCORE_TIER\"]==\"LOW\",NMGR_summary_combination[\"MONTH\"],0)\n"
   ]
  },
  {
   "cell_type": "code",
   "execution_count": 81,
   "id": "1736852c",
   "metadata": {},
   "outputs": [],
   "source": [
    "# sum at state level and reorder\n",
    "NMGR_summary_combination = NMGR_summary_combination.groupby(['STATE'],as_index = False).sum()\n",
    "NMGR_summary_combination = NMGR_summary_combination[['STATE','MONTH','High Opportunity WC Count','High Opportunity LU Count','Medium Opportunity WC Count','Medium Opportunity LU Count','Low Opportunity WC Count','Low Opportunity LU Count']].sort_values(['MONTH'], ascending = False)"
   ]
  },
  {
   "cell_type": "code",
   "execution_count": 82,
   "id": "aca426ba",
   "metadata": {},
   "outputs": [
    {
     "data": {
      "text/html": [
       "<div>\n",
       "<style scoped>\n",
       "    .dataframe tbody tr th:only-of-type {\n",
       "        vertical-align: middle;\n",
       "    }\n",
       "\n",
       "    .dataframe tbody tr th {\n",
       "        vertical-align: top;\n",
       "    }\n",
       "\n",
       "    .dataframe thead th {\n",
       "        text-align: right;\n",
       "    }\n",
       "</style>\n",
       "<table border=\"1\" class=\"dataframe\">\n",
       "  <thead>\n",
       "    <tr style=\"text-align: right;\">\n",
       "      <th></th>\n",
       "      <th>STATE</th>\n",
       "      <th>MONTH</th>\n",
       "      <th>High Opportunity WC Count</th>\n",
       "      <th>High Opportunity LU Count</th>\n",
       "      <th>Medium Opportunity WC Count</th>\n",
       "      <th>Medium Opportunity LU Count</th>\n",
       "      <th>Low Opportunity WC Count</th>\n",
       "      <th>Low Opportunity LU Count</th>\n",
       "    </tr>\n",
       "  </thead>\n",
       "  <tbody>\n",
       "    <tr>\n",
       "      <th>0</th>\n",
       "      <td>FL</td>\n",
       "      <td>7088.0</td>\n",
       "      <td>1</td>\n",
       "      <td>628.0</td>\n",
       "      <td>2</td>\n",
       "      <td>6292.0</td>\n",
       "      <td>1</td>\n",
       "      <td>168.0</td>\n",
       "    </tr>\n",
       "    <tr>\n",
       "      <th>2</th>\n",
       "      <td>UT</td>\n",
       "      <td>208.0</td>\n",
       "      <td>0</td>\n",
       "      <td>0.0</td>\n",
       "      <td>1</td>\n",
       "      <td>208.0</td>\n",
       "      <td>0</td>\n",
       "      <td>0.0</td>\n",
       "    </tr>\n",
       "    <tr>\n",
       "      <th>1</th>\n",
       "      <td>OR</td>\n",
       "      <td>178.0</td>\n",
       "      <td>1</td>\n",
       "      <td>178.0</td>\n",
       "      <td>0</td>\n",
       "      <td>0.0</td>\n",
       "      <td>0</td>\n",
       "      <td>0.0</td>\n",
       "    </tr>\n",
       "  </tbody>\n",
       "</table>\n",
       "</div>"
      ],
      "text/plain": [
       "  STATE   MONTH  High Opportunity WC Count  High Opportunity LU Count  \\\n",
       "0    FL  7088.0                          1                      628.0   \n",
       "2    UT   208.0                          0                        0.0   \n",
       "1    OR   178.0                          1                      178.0   \n",
       "\n",
       "   Medium Opportunity WC Count  Medium Opportunity LU Count  \\\n",
       "0                            2                       6292.0   \n",
       "2                            1                        208.0   \n",
       "1                            0                          0.0   \n",
       "\n",
       "   Low Opportunity WC Count  Low Opportunity LU Count  \n",
       "0                         1                     168.0  \n",
       "2                         0                       0.0  \n",
       "1                         0                       0.0  "
      ]
     },
     "execution_count": 82,
     "metadata": {},
     "output_type": "execute_result"
    }
   ],
   "source": [
    "NMGR_summary_combination # ready for export"
   ]
  },
  {
   "cell_type": "code",
   "execution_count": 83,
   "id": "2e59e2ab",
   "metadata": {},
   "outputs": [],
   "source": [
    "# data prep for cost-opportunity bar chart - nonMG\n",
    "\n",
    "NMGR_costs_df = NMGR.groupby(by=[\"STATE\", \"OPPORTUNITY_SCORE_TIER\"], as_index = False)['COST_FOR_MULTIGIG'].sum()\n",
    "NMGR_tier_df = NMGR.groupby([\"STATE\", \"OPPORTUNITY_SCORE_TIER\"], as_index = False).size()\n",
    "NMGR_LU_df = NMGR.groupby(by=[\"STATE\", \"OPPORTUNITY_SCORE_TIER\"], as_index = False)[\"MONTH\"].sum()\n",
    "\n",
    "NMGR_Agg0_df = NMGR_tier_df.merge(NMGR_costs_df, how = 'left', on = ['STATE', 'OPPORTUNITY_SCORE_TIER'])\n",
    "NMGR_Agg_df = NMGR_Agg0_df.merge(NMGR_LU_df, how = 'left', on = ['STATE', 'OPPORTUNITY_SCORE_TIER'])\n",
    "\n",
    "# sort table\n",
    "\n",
    "NMGR_Agg_df['OPPORTUNITY_SCORE_TIER'] = pd.Categorical(NMGR_Agg_df['OPPORTUNITY_SCORE_TIER'], [\"HIGH\", \"MEDIUM\", \"LOW\"])\n",
    "NMGR_Agg_df.sort_values(\"OPPORTUNITY_SCORE_TIER\", inplace = True)\n",
    "NMGR_Agg_df\n",
    "\n",
    "NMGR_Agg_df = NMGR_Agg_df.rename(columns = {'size': 'NUM_OF_WIRE_CENTERS',\n",
    "                              'MONTH': 'NUM_OF_LIVING_UNITS'})\n",
    "\n",
    "nonMG_cost_agg = NMGR_Agg_df.copy() # for export"
   ]
  },
  {
   "cell_type": "markdown",
   "id": "2e39b496",
   "metadata": {},
   "source": [
    "Multigig output starts here"
   ]
  },
  {
   "cell_type": "code",
   "execution_count": 84,
   "id": "47e05762",
   "metadata": {},
   "outputs": [
    {
     "data": {
      "text/html": [
       "<div>\n",
       "<style scoped>\n",
       "    .dataframe tbody tr th:only-of-type {\n",
       "        vertical-align: middle;\n",
       "    }\n",
       "\n",
       "    .dataframe tbody tr th {\n",
       "        vertical-align: top;\n",
       "    }\n",
       "\n",
       "    .dataframe thead th {\n",
       "        text-align: right;\n",
       "    }\n",
       "</style>\n",
       "<table border=\"1\" class=\"dataframe\">\n",
       "  <thead>\n",
       "    <tr style=\"text-align: right;\">\n",
       "      <th></th>\n",
       "      <th>PRIMARY_WIRE_CENTER_ID</th>\n",
       "      <th>2022-10</th>\n",
       "      <th>MONTH</th>\n",
       "      <th>OPPORTUNITY_SCORE</th>\n",
       "      <th>STATE</th>\n",
       "      <th>CORE_STATUS</th>\n",
       "      <th>COST_FOR_MULTIGIG</th>\n",
       "      <th>OPPORTUNITY_SCORE_TIER</th>\n",
       "    </tr>\n",
       "  </thead>\n",
       "  <tbody>\n",
       "    <tr>\n",
       "      <th>0</th>\n",
       "      <td>CLSPCOMA</td>\n",
       "      <td>653.0</td>\n",
       "      <td>653.0</td>\n",
       "      <td>13</td>\n",
       "      <td>CO</td>\n",
       "      <td>MultiGIG</td>\n",
       "      <td>75000.0</td>\n",
       "      <td>HIGH</td>\n",
       "    </tr>\n",
       "    <tr>\n",
       "      <th>1</th>\n",
       "      <td>CLSPCOPV</td>\n",
       "      <td>1342.0</td>\n",
       "      <td>1342.0</td>\n",
       "      <td>10</td>\n",
       "      <td>CO</td>\n",
       "      <td>MultiGIG</td>\n",
       "      <td>150000.0</td>\n",
       "      <td>MEDIUM</td>\n",
       "    </tr>\n",
       "    <tr>\n",
       "      <th>3</th>\n",
       "      <td>CRYSMNCR</td>\n",
       "      <td>412.0</td>\n",
       "      <td>412.0</td>\n",
       "      <td>13</td>\n",
       "      <td>MN</td>\n",
       "      <td>MultiGIG</td>\n",
       "      <td>50000.0</td>\n",
       "      <td>HIGH</td>\n",
       "    </tr>\n",
       "    <tr>\n",
       "      <th>4</th>\n",
       "      <td>CSRKCONM</td>\n",
       "      <td>87.0</td>\n",
       "      <td>87.0</td>\n",
       "      <td>14</td>\n",
       "      <td>CO</td>\n",
       "      <td>MultiGIG</td>\n",
       "      <td>0.0</td>\n",
       "      <td>HIGH</td>\n",
       "    </tr>\n",
       "    <tr>\n",
       "      <th>8</th>\n",
       "      <td>MPLSMNBE</td>\n",
       "      <td>309.0</td>\n",
       "      <td>309.0</td>\n",
       "      <td>9</td>\n",
       "      <td>MN</td>\n",
       "      <td>MultiGIG</td>\n",
       "      <td>25000.0</td>\n",
       "      <td>MEDIUM</td>\n",
       "    </tr>\n",
       "  </tbody>\n",
       "</table>\n",
       "</div>"
      ],
      "text/plain": [
       "  PRIMARY_WIRE_CENTER_ID  2022-10   MONTH  OPPORTUNITY_SCORE STATE  \\\n",
       "0               CLSPCOMA    653.0   653.0                 13    CO   \n",
       "1               CLSPCOPV   1342.0  1342.0                 10    CO   \n",
       "3               CRYSMNCR    412.0   412.0                 13    MN   \n",
       "4               CSRKCONM     87.0    87.0                 14    CO   \n",
       "8               MPLSMNBE    309.0   309.0                  9    MN   \n",
       "\n",
       "  CORE_STATUS  COST_FOR_MULTIGIG OPPORTUNITY_SCORE_TIER  \n",
       "0    MultiGIG            75000.0                   HIGH  \n",
       "1    MultiGIG           150000.0                 MEDIUM  \n",
       "3    MultiGIG            50000.0                   HIGH  \n",
       "4    MultiGIG                0.0                   HIGH  \n",
       "8    MultiGIG            25000.0                 MEDIUM  "
      ]
     },
     "execution_count": 84,
     "metadata": {},
     "output_type": "execute_result"
    }
   ],
   "source": [
    "MGR.head()"
   ]
  },
  {
   "cell_type": "code",
   "execution_count": 85,
   "id": "e6fe13d0",
   "metadata": {},
   "outputs": [],
   "source": [
    "MGR_summary_combination = MGR[[\"STATE\",\"PRIMARY_WIRE_CENTER_ID\",\"OPPORTUNITY_SCORE_TIER\",\"MONTH\"]]"
   ]
  },
  {
   "cell_type": "code",
   "execution_count": 86,
   "id": "8c307707",
   "metadata": {},
   "outputs": [
    {
     "name": "stderr",
     "output_type": "stream",
     "text": [
      "C:\\Windows\\Temp\\ipykernel_12840\\3095379627.py:2: SettingWithCopyWarning: \n",
      "A value is trying to be set on a copy of a slice from a DataFrame.\n",
      "Try using .loc[row_indexer,col_indexer] = value instead\n",
      "\n",
      "See the caveats in the documentation: https://pandas.pydata.org/pandas-docs/stable/user_guide/indexing.html#returning-a-view-versus-a-copy\n",
      "  MGR_summary_combination[\"High Opportunity WC Count\"] = np.where(MGR_summary_combination[\"OPPORTUNITY_SCORE_TIER\"]==\"HIGH\",1,0)\n",
      "C:\\Windows\\Temp\\ipykernel_12840\\3095379627.py:3: SettingWithCopyWarning: \n",
      "A value is trying to be set on a copy of a slice from a DataFrame.\n",
      "Try using .loc[row_indexer,col_indexer] = value instead\n",
      "\n",
      "See the caveats in the documentation: https://pandas.pydata.org/pandas-docs/stable/user_guide/indexing.html#returning-a-view-versus-a-copy\n",
      "  MGR_summary_combination[\"Medium Opportunity WC Count\"] = np.where(MGR_summary_combination[\"OPPORTUNITY_SCORE_TIER\"]==\"MEDIUM\",1,0)\n",
      "C:\\Windows\\Temp\\ipykernel_12840\\3095379627.py:4: SettingWithCopyWarning: \n",
      "A value is trying to be set on a copy of a slice from a DataFrame.\n",
      "Try using .loc[row_indexer,col_indexer] = value instead\n",
      "\n",
      "See the caveats in the documentation: https://pandas.pydata.org/pandas-docs/stable/user_guide/indexing.html#returning-a-view-versus-a-copy\n",
      "  MGR_summary_combination[\"Low Opportunity WC Count\"] = np.where(MGR_summary_combination[\"OPPORTUNITY_SCORE_TIER\"]==\"LOW\",1,0)\n"
     ]
    }
   ],
   "source": [
    "# add wire centers count columns\n",
    "MGR_summary_combination[\"High Opportunity WC Count\"] = np.where(MGR_summary_combination[\"OPPORTUNITY_SCORE_TIER\"]==\"HIGH\",1,0)\n",
    "MGR_summary_combination[\"Medium Opportunity WC Count\"] = np.where(MGR_summary_combination[\"OPPORTUNITY_SCORE_TIER\"]==\"MEDIUM\",1,0)\n",
    "MGR_summary_combination[\"Low Opportunity WC Count\"] = np.where(MGR_summary_combination[\"OPPORTUNITY_SCORE_TIER\"]==\"LOW\",1,0)\n",
    "\n",
    "# add lu count columns\n",
    "MGR_summary_combination[\"High Opportunity LU Count\"] = np.where(MGR_summary_combination[\"OPPORTUNITY_SCORE_TIER\"]==\"HIGH\",MGR_summary_combination[\"MONTH\"],0)\n",
    "MGR_summary_combination[\"Medium Opportunity LU Count\"] = np.where(MGR_summary_combination[\"OPPORTUNITY_SCORE_TIER\"]==\"MEDIUM\",MGR_summary_combination[\"MONTH\"],0)\n",
    "MGR_summary_combination[\"Low Opportunity LU Count\"] = np.where(MGR_summary_combination[\"OPPORTUNITY_SCORE_TIER\"]==\"LOW\",MGR_summary_combination[\"MONTH\"],0)\n"
   ]
  },
  {
   "cell_type": "code",
   "execution_count": 87,
   "id": "6bdc5e20",
   "metadata": {},
   "outputs": [],
   "source": [
    "# sum at state level and reorder\n",
    "MGR_summary_combination = MGR_summary_combination.groupby(['STATE'],as_index = False).sum()\n",
    "MGR_summary_combination = MGR_summary_combination[['STATE','MONTH','High Opportunity WC Count','High Opportunity LU Count','Medium Opportunity WC Count','Medium Opportunity LU Count','Low Opportunity WC Count','Low Opportunity LU Count']].sort_values(['MONTH'], ascending = False)"
   ]
  },
  {
   "cell_type": "code",
   "execution_count": 88,
   "id": "1e01ec73",
   "metadata": {},
   "outputs": [
    {
     "data": {
      "text/html": [
       "<div>\n",
       "<style scoped>\n",
       "    .dataframe tbody tr th:only-of-type {\n",
       "        vertical-align: middle;\n",
       "    }\n",
       "\n",
       "    .dataframe tbody tr th {\n",
       "        vertical-align: top;\n",
       "    }\n",
       "\n",
       "    .dataframe thead th {\n",
       "        text-align: right;\n",
       "    }\n",
       "</style>\n",
       "<table border=\"1\" class=\"dataframe\">\n",
       "  <thead>\n",
       "    <tr style=\"text-align: right;\">\n",
       "      <th></th>\n",
       "      <th>STATE</th>\n",
       "      <th>MONTH</th>\n",
       "      <th>High Opportunity WC Count</th>\n",
       "      <th>High Opportunity LU Count</th>\n",
       "      <th>Medium Opportunity WC Count</th>\n",
       "      <th>Medium Opportunity LU Count</th>\n",
       "      <th>Low Opportunity WC Count</th>\n",
       "      <th>Low Opportunity LU Count</th>\n",
       "    </tr>\n",
       "  </thead>\n",
       "  <tbody>\n",
       "    <tr>\n",
       "      <th>1</th>\n",
       "      <td>CO</td>\n",
       "      <td>2176.0</td>\n",
       "      <td>3</td>\n",
       "      <td>834.0</td>\n",
       "      <td>1</td>\n",
       "      <td>1342.0</td>\n",
       "      <td>0</td>\n",
       "      <td>0.0</td>\n",
       "    </tr>\n",
       "    <tr>\n",
       "      <th>2</th>\n",
       "      <td>MN</td>\n",
       "      <td>1326.0</td>\n",
       "      <td>3</td>\n",
       "      <td>1017.0</td>\n",
       "      <td>1</td>\n",
       "      <td>309.0</td>\n",
       "      <td>0</td>\n",
       "      <td>0.0</td>\n",
       "    </tr>\n",
       "    <tr>\n",
       "      <th>0</th>\n",
       "      <td>AZ</td>\n",
       "      <td>1277.0</td>\n",
       "      <td>0</td>\n",
       "      <td>0.0</td>\n",
       "      <td>0</td>\n",
       "      <td>0.0</td>\n",
       "      <td>1</td>\n",
       "      <td>1277.0</td>\n",
       "    </tr>\n",
       "    <tr>\n",
       "      <th>4</th>\n",
       "      <td>WA</td>\n",
       "      <td>757.0</td>\n",
       "      <td>1</td>\n",
       "      <td>262.0</td>\n",
       "      <td>2</td>\n",
       "      <td>495.0</td>\n",
       "      <td>0</td>\n",
       "      <td>0.0</td>\n",
       "    </tr>\n",
       "    <tr>\n",
       "      <th>3</th>\n",
       "      <td>UT</td>\n",
       "      <td>543.0</td>\n",
       "      <td>1</td>\n",
       "      <td>543.0</td>\n",
       "      <td>0</td>\n",
       "      <td>0.0</td>\n",
       "      <td>0</td>\n",
       "      <td>0.0</td>\n",
       "    </tr>\n",
       "  </tbody>\n",
       "</table>\n",
       "</div>"
      ],
      "text/plain": [
       "  STATE   MONTH  High Opportunity WC Count  High Opportunity LU Count  \\\n",
       "1    CO  2176.0                          3                      834.0   \n",
       "2    MN  1326.0                          3                     1017.0   \n",
       "0    AZ  1277.0                          0                        0.0   \n",
       "4    WA   757.0                          1                      262.0   \n",
       "3    UT   543.0                          1                      543.0   \n",
       "\n",
       "   Medium Opportunity WC Count  Medium Opportunity LU Count  \\\n",
       "1                            1                       1342.0   \n",
       "2                            1                        309.0   \n",
       "0                            0                          0.0   \n",
       "4                            2                        495.0   \n",
       "3                            0                          0.0   \n",
       "\n",
       "   Low Opportunity WC Count  Low Opportunity LU Count  \n",
       "1                         0                       0.0  \n",
       "2                         0                       0.0  \n",
       "0                         1                    1277.0  \n",
       "4                         0                       0.0  \n",
       "3                         0                       0.0  "
      ]
     },
     "execution_count": 88,
     "metadata": {},
     "output_type": "execute_result"
    }
   ],
   "source": [
    "MGR_summary_combination # ready for export"
   ]
  },
  {
   "cell_type": "code",
   "execution_count": 90,
   "id": "0fd32d45",
   "metadata": {},
   "outputs": [],
   "source": [
    "# export\n",
    "\n",
    "import time\n",
    "\n",
    "TodaysDate = time.strftime(\"%m%d%y\")\n",
    "excelfilename = \"Output/\" + TodaysDate +\"_ConstructionFunded_Monthly_Data.xlsx\"\n",
    "\n",
    "with pd.ExcelWriter(excelfilename) as writer: \n",
    "    MGR_summary_combination.to_excel(writer, sheet_name='MG', index = False)\n",
    "    NMGR_summary_combination.to_excel(writer, sheet_name='NonMG', index = False)\n",
    "    nonMG_cost_agg.to_excel(writer, sheet_name='NonMG_Cost_Summary', index = False)\n",
    "    Construction_final.to_excel(writer, sheet_name='Details', index = False)\n",
    "    Construction_details_base_df.to_excel(writer, sheet_name='FundingOriginalExport', index = False)"
   ]
  },
  {
   "cell_type": "markdown",
   "id": "380233b1",
   "metadata": {},
   "source": [
    "Graph for MultiGig - Wire Center Details"
   ]
  },
  {
   "cell_type": "code",
   "execution_count": 91,
   "id": "378f3c6f",
   "metadata": {},
   "outputs": [
    {
     "data": {
      "text/html": [
       "<div>\n",
       "<style scoped>\n",
       "    .dataframe tbody tr th:only-of-type {\n",
       "        vertical-align: middle;\n",
       "    }\n",
       "\n",
       "    .dataframe tbody tr th {\n",
       "        vertical-align: top;\n",
       "    }\n",
       "\n",
       "    .dataframe thead th {\n",
       "        text-align: right;\n",
       "    }\n",
       "</style>\n",
       "<table border=\"1\" class=\"dataframe\">\n",
       "  <thead>\n",
       "    <tr style=\"text-align: right;\">\n",
       "      <th></th>\n",
       "      <th>PRIMARY_WIRE_CENTER_ID</th>\n",
       "      <th>2022-10</th>\n",
       "      <th>MONTH</th>\n",
       "      <th>OPPORTUNITY_SCORE</th>\n",
       "      <th>STATE</th>\n",
       "      <th>CORE_STATUS</th>\n",
       "      <th>COST_FOR_MULTIGIG</th>\n",
       "      <th>OPPORTUNITY_SCORE_TIER</th>\n",
       "    </tr>\n",
       "  </thead>\n",
       "  <tbody>\n",
       "    <tr>\n",
       "      <th>0</th>\n",
       "      <td>CLSPCOMA</td>\n",
       "      <td>653.0</td>\n",
       "      <td>653.0</td>\n",
       "      <td>13</td>\n",
       "      <td>CO</td>\n",
       "      <td>MultiGIG</td>\n",
       "      <td>75000.0</td>\n",
       "      <td>HIGH</td>\n",
       "    </tr>\n",
       "    <tr>\n",
       "      <th>1</th>\n",
       "      <td>CLSPCOPV</td>\n",
       "      <td>1342.0</td>\n",
       "      <td>1342.0</td>\n",
       "      <td>10</td>\n",
       "      <td>CO</td>\n",
       "      <td>MultiGIG</td>\n",
       "      <td>150000.0</td>\n",
       "      <td>MEDIUM</td>\n",
       "    </tr>\n",
       "    <tr>\n",
       "      <th>3</th>\n",
       "      <td>CRYSMNCR</td>\n",
       "      <td>412.0</td>\n",
       "      <td>412.0</td>\n",
       "      <td>13</td>\n",
       "      <td>MN</td>\n",
       "      <td>MultiGIG</td>\n",
       "      <td>50000.0</td>\n",
       "      <td>HIGH</td>\n",
       "    </tr>\n",
       "    <tr>\n",
       "      <th>4</th>\n",
       "      <td>CSRKCONM</td>\n",
       "      <td>87.0</td>\n",
       "      <td>87.0</td>\n",
       "      <td>14</td>\n",
       "      <td>CO</td>\n",
       "      <td>MultiGIG</td>\n",
       "      <td>0.0</td>\n",
       "      <td>HIGH</td>\n",
       "    </tr>\n",
       "    <tr>\n",
       "      <th>8</th>\n",
       "      <td>MPLSMNBE</td>\n",
       "      <td>309.0</td>\n",
       "      <td>309.0</td>\n",
       "      <td>9</td>\n",
       "      <td>MN</td>\n",
       "      <td>MultiGIG</td>\n",
       "      <td>25000.0</td>\n",
       "      <td>MEDIUM</td>\n",
       "    </tr>\n",
       "  </tbody>\n",
       "</table>\n",
       "</div>"
      ],
      "text/plain": [
       "  PRIMARY_WIRE_CENTER_ID  2022-10   MONTH  OPPORTUNITY_SCORE STATE  \\\n",
       "0               CLSPCOMA    653.0   653.0                 13    CO   \n",
       "1               CLSPCOPV   1342.0  1342.0                 10    CO   \n",
       "3               CRYSMNCR    412.0   412.0                 13    MN   \n",
       "4               CSRKCONM     87.0    87.0                 14    CO   \n",
       "8               MPLSMNBE    309.0   309.0                  9    MN   \n",
       "\n",
       "  CORE_STATUS  COST_FOR_MULTIGIG OPPORTUNITY_SCORE_TIER  \n",
       "0    MultiGIG            75000.0                   HIGH  \n",
       "1    MultiGIG           150000.0                 MEDIUM  \n",
       "3    MultiGIG            50000.0                   HIGH  \n",
       "4    MultiGIG                0.0                   HIGH  \n",
       "8    MultiGIG            25000.0                 MEDIUM  "
      ]
     },
     "execution_count": 91,
     "metadata": {},
     "output_type": "execute_result"
    }
   ],
   "source": [
    "MGR.head()"
   ]
  },
  {
   "cell_type": "code",
   "execution_count": 92,
   "id": "62952a47",
   "metadata": {},
   "outputs": [
    {
     "data": {
      "image/png": "[encoded data removed]",
      "text/plain": [
       "<Figure size 1584x720 with 2 Axes>"
      ]
     },
     "metadata": {},
     "output_type": "display_data"
    }
   ],
   "source": [
    "import matplotlib.pyplot as plt\n",
    "import seaborn as sns\n",
    "\n",
    "# set graph space\n",
    "\n",
    "fig2, (ax2, ax3) = plt.subplots(1,\n",
    "                                2, \n",
    "                                figsize = (22, 10), \n",
    "                                gridspec_kw = {'width_ratios': [1.4, 2]})\n",
    "\n",
    "# set opportunity score tier\n",
    "opp_mask = (MGR[\"OPPORTUNITY_SCORE_TIER\"] == \"HIGH\")|(MGR[\"OPPORTUNITY_SCORE_TIER\"] == \"MEDIUM\")|(MGR[\"OPPORTUNITY_SCORE_TIER\"] == \"LOW\")\n",
    "\n",
    "# create graph\n",
    "sns.set(font_scale = 1.3)\n",
    "sns.barplot(x = \"OPPORTUNITY_SCORE\", \n",
    "            y = \"PRIMARY_WIRE_CENTER_ID\", \n",
    "            data = MGR[opp_mask].sort_values(by = ['OPPORTUNITY_SCORE', 'MONTH', 'PRIMARY_WIRE_CENTER_ID'], ascending = False),\n",
    "            orient = 'h',\n",
    "            ax = ax2).set(xticklabels = [])\n",
    "sns.barplot(x = \"MONTH\", \n",
    "            y = \"PRIMARY_WIRE_CENTER_ID\", \n",
    "            #data=MultiGIG_df[:20].sort_values(by = ['Opportunity Score', 'WIRE_CENTER_ID'], ascending = False),\n",
    "            data = MGR[opp_mask].sort_values(by = ['OPPORTUNITY_SCORE', 'MONTH', 'PRIMARY_WIRE_CENTER_ID'], ascending = False),\n",
    "            orient = 'h',\n",
    "            ax = ax3)\n",
    "\n",
    "plt.subplots_adjust(wspace=.17, hspace=0)\n",
    "\n",
    "# set axis properties ax2\n",
    "\n",
    "ax2.set_title('MultiGIG-Ready Wire Centers Ranking By Opportunity Scores', fontsize = 22)\n",
    "ax2.set(xlabel='Opportunity Scores', ylabel='')\n",
    "ax2.xaxis.label.set_size(20)\n",
    "\n",
    "# label value on bars\n",
    "for i in ax2.containers:\n",
    "    ax2.bar_label(i,\n",
    "                 padding=2)\n",
    "\n",
    "# set axis properties ax3\n",
    "\n",
    "ax3.set_title('# of Construction Funded Living Units at Wire Centers', fontsize = 22)\n",
    "ax3.set(xlabel='# of Living Units', ylabel='')\n",
    "ax3.xaxis.label.set_size(20)\n",
    "\n",
    "for i in ax3.containers:\n",
    "    ax3.bar_label(i, \n",
    "                  labels=[f'{x:,.0f}' for x in i.datavalues], \n",
    "                  padding=5)\n",
    "    \n",
    "plt.show()    \n",
    "\n",
    "# plt.savefig('Output/Graphs/MultiGIG-Ready_WC_Ranked_By_OppScores_LUs.png')\n",
    "# plt.savefig('Output/Graphs/test.png')"
   ]
  },
  {
   "cell_type": "code",
   "execution_count": null,
   "id": "74af7d01",
   "metadata": {},
   "outputs": [],
   "source": []
  }
 ],
 "metadata": {
  "kernelspec": {
   "display_name": "Python 3 (ipykernel)",
   "language": "python",
   "name": "python3"
  },
  "language_info": {
   "codemirror_mode": {
    "name": "ipython",
    "version": 3
   },
   "file_extension": ".py",
   "mimetype": "text/x-python",
   "name": "python",
   "nbconvert_exporter": "python",
   "pygments_lexer": "ipython3",
   "version": "3.9.12"
  }
 },
 "nbformat": 4,
 "nbformat_minor": 5
}
