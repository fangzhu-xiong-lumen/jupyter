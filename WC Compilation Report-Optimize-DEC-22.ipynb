{
 "cells": [
  {
   "cell_type": "markdown",
   "id": "6ed68a4b",
   "metadata": {},
   "source": [
    "Data for sales/penetration will not be ready until after the 8th of the month.\n",
    "\n",
    "### ***Pull Construction Funding at the beginning of the month, only once a month\n",
    "\n",
    "December 2022 funding data - already pulled 11/30/22 - do not pull until after 12/31"
   ]
  },
  {
   "cell_type": "code",
   "execution_count": 3,
   "id": "09125f94",
   "metadata": {},
   "outputs": [
    {
     "ename": "ProgrammingError",
     "evalue": "Oracle Client library has already been initialized",
     "output_type": "error",
     "traceback": [
      "\u001b[1;31m---------------------------------------------------------------------------\u001b[0m",
      "\u001b[1;31mProgrammingError\u001b[0m                          Traceback (most recent call last)",
      "Input \u001b[1;32mIn [3]\u001b[0m, in \u001b[0;36m<cell line: 5>\u001b[1;34m()\u001b[0m\n\u001b[0;32m      3\u001b[0m \u001b[38;5;28;01mimport\u001b[39;00m \u001b[38;5;21;01mpandas\u001b[39;00m \u001b[38;5;28;01mas\u001b[39;00m \u001b[38;5;21;01mpd\u001b[39;00m\n\u001b[0;32m      4\u001b[0m \u001b[38;5;28;01mimport\u001b[39;00m \u001b[38;5;21;01mcx_Oracle\u001b[39;00m\n\u001b[1;32m----> 5\u001b[0m \u001b[43mcx_Oracle\u001b[49m\u001b[38;5;241;43m.\u001b[39;49m\u001b[43minit_oracle_client\u001b[49m\u001b[43m(\u001b[49m\u001b[43mlib_dir\u001b[49m\u001b[38;5;241;43m=\u001b[39;49m\u001b[38;5;124;43mr\u001b[39;49m\u001b[38;5;124;43m\"\u001b[39;49m\u001b[38;5;124;43mC:\u001b[39;49m\u001b[38;5;124;43m\\\u001b[39;49m\u001b[38;5;124;43mOracle\u001b[39;49m\u001b[38;5;124;43m\\\u001b[39;49m\u001b[38;5;124;43minstantclient_21_6\u001b[39;49m\u001b[38;5;124;43m\"\u001b[39;49m\u001b[43m)\u001b[49m\n",
      "\u001b[1;31mProgrammingError\u001b[0m: Oracle Client library has already been initialized"
     ]
    }
   ],
   "source": [
    "import os\n",
    "import sys\n",
    "import pandas as pd\n",
    "import cx_Oracle\n",
    "cx_Oracle.init_oracle_client(lib_dir=r\"C:\\Oracle\\instantclient_21_6\")"
   ]
  },
  {
   "cell_type": "code",
   "execution_count": null,
   "id": "40fb7bca",
   "metadata": {},
   "outputs": [],
   "source": [
    "# FRAM001P\n",
    "conn2 = cx_Oracle.connect(\n",
    "    user=\"AD21236\",\n",
    "    password=\"L2022$Um\",\n",
    "    dsn=\"RACORAP08-SCAN.CORP.INTRANET/FRAM001P_PROD\",\n",
    "    encoding=\"UTF-8\")\n",
    "\n",
    "#CCDWO1P - SALES\n",
    "conn3 = cx_Oracle.connect(\n",
    "    user=\"AD21236\",\n",
    "    password=\"C#ntury123\",\n",
    "    dsn=\"racorap33-scan.corp.intranet:1521/ccdw01p_users\",\n",
    "    encoding=\"UTF-8\")"
   ]
  },
  {
   "cell_type": "code",
   "execution_count": null,
   "id": "cde7c41c",
   "metadata": {
    "scrolled": true
   },
   "outputs": [],
   "source": [
    "%%time\n",
    "#CBSA WCs\n",
    "\n",
    "# LU_QUAL_O qualifications for XGS - update date here\n",
    "query3 = \"\"\"\n",
    "            WITH QD AS (\n",
    "            SELECT  \n",
    "                    O.WIRE_CENTER_ID AS PRIMARY_WIRE_CENTER_ID\n",
    "                    ,O.LUID\n",
    "                    ,O.ADDRESS\n",
    "                    ,O.UNI_SERVICETYPE\n",
    "                    ,O.OLT\n",
    "                    ,O.TECH_TYPE\n",
    "                    ,O.OLT_TYPE\n",
    "                    ,O.FSAI\n",
    "                    ,O.UNI_POLYGONID\n",
    "                    ,O.UNI_STATUS\n",
    "                    ,O.UNI_NDSJOBNUMBER\n",
    "                    ,O.UNI_FWRKSJOBNUMBER\n",
    "                    ,O.UNI_ECD\n",
    "                    --,O.*\n",
    "                    \n",
    "            FROM    LQSMO.LU_QUAL_O O\n",
    "            \n",
    "            WHERE   ADDRESS <> '7599 S WHEELING CT'\n",
    "                    AND (UNI_SERVICETYPE LIKE 'XGS%' \n",
    "                        OR TECH_TYPE LIKE 'XGS' \n",
    "                        OR OLT_TYPE='ADTRAN-SDX6320-16-XGS-PON') \n",
    "                    AND uni_status='IN SERVICE'\n",
    "                    AND uni_ecd < '1-DEC-2022'\n",
    "                    \n",
    "            )\n",
    "            \n",
    "            SELECT  PRIMARY_WIRE_CENTER_ID\n",
    "                    ,count(distinct LUID) as lu_qual_cnt\n",
    "                    \n",
    "            FROM    QD\n",
    "            \n",
    "            GROUP BY\n",
    "                    PRIMARY_WIRE_CENTER_ID\n",
    "\n",
    "                                \"\"\"\n",
    "\n",
    "luqualo_ora_xgs_df = pd.read_sql(query3, con=conn2)"
   ]
  },
  {
   "cell_type": "code",
   "execution_count": null,
   "id": "d7a27eea",
   "metadata": {},
   "outputs": [],
   "source": [
    "# luqualo_ora_xgs_df"
   ]
  },
  {
   "cell_type": "code",
   "execution_count": null,
   "id": "80bad24b",
   "metadata": {},
   "outputs": [],
   "source": [
    "%%time\n",
    "\n",
    "#getting sales data separate because it takes a while to run - update date here\n",
    "\n",
    "query4 = \"\"\"\n",
    "\n",
    "WITH HH AS (         --comes from corp strategy\n",
    "\n",
    "    select count(t.ntwk_source_key) as lu_cnt\n",
    "            ,t.snapshot_date\n",
    "            ,t.WIRE_CENTER_ID\n",
    "            ,t.CBSA_NAME\n",
    "            ,t.STATE_CD\n",
    "            ,CASE WHEN t.qualtech NOT IN ('XGSPON', 'GPON') THEN 'COPPER'\n",
    "                  ELSE t.qualtech END AS qualtech  --In Tableau dashboard fiber = XGSPON,GPON/ everything else = copper \n",
    "\n",
    "    from \n",
    "            rpcarte.dd_t5846_hh_fp_sbg t\n",
    " \n",
    "    where \n",
    "            t.snapshot_date = '30-NOV-2022'            and t.SBG_MKT_LVL1_CUR = 'MASSMKT'\n",
    "            and t.LU_COUNTABLE = 'Y'\n",
    "            and t.HSI_MAX_QUAL <> 0 -- speed filter excluding 0 speed group\n",
    "            and ILEC_OPS = 'LUMEN'\n",
    " \n",
    "    group by \n",
    "            t.snapshot_date\n",
    "            ,t.WIRE_CENTER_ID\n",
    "            ,t.CBSA_NAME\n",
    "            ,t.STATE_CD\n",
    "            ,CASE WHEN t.qualtech NOT IN ('XGSPON', 'GPON') THEN 'COPPER'\n",
    "                  ELSE t.qualtech END\n",
    "\n",
    "\n",
    "), SALES AS (    --Ins: completed sale orders for hsi to xgspon enabled sddresses\n",
    "\n",
    "    select  sum(t.units) as units\n",
    "            ,t.transaction_date\n",
    "            ,t.metric\n",
    "            ,t.WIRE_CENTER_ID\n",
    "            ,t.CBSA_NAME\n",
    "            ,t.STATE_CD\n",
    "            ,CASE WHEN t.BILLED_TECHNOLOGY = 'Copper' THEN 'COPPER'\n",
    "                  ELSE t.qualtech END AS qualtech\n",
    "       \n",
    "    from    rpcarte.dd_t5846_units_sbg t\n",
    "    where   t.transaction_date = '30-NOV-2022'\n",
    "            and t.BILLED_TECHNOLOGY in ('Fiber', 'Copper') -- what technology the customer is actually being billed for\n",
    "            and t.crnt_gl_cust_type_cd in ('R','S')\n",
    "            and t.META_SRC_SYS_CD not in ('CTL_ENS_OVRLY') \n",
    "            and t.META_SRC_SYS_CD||metric not in ('Q_IR_CPROD_OVRLYEIS')\n",
    "            and nvl(UPPER(t.PREPAID),'NA')||t.META_SRC_SYS_CD NOT IN ('INSTALINKPPP','INSTALINKQ_IR_CPROD','INSTALINKCTL_ENS')\n",
    "            and t.ILEC_OPS = 'LUMEN'\n",
    "            \n",
    "\n",
    "        \n",
    "    group by    t.transaction_date\n",
    "                ,t.metric\n",
    "                ,t.WIRE_CENTER_ID\n",
    "                ,t.CBSA_NAME\n",
    "                ,t.STATE_CD\n",
    "                ,CASE WHEN t.BILLED_TECHNOLOGY = 'Copper' THEN 'COPPER'\n",
    "                      ELSE t.qualtech END\n",
    "                \n",
    "), EIS AS (\n",
    "\n",
    "    select  distinct \n",
    "            units\n",
    "            ,transaction_date\n",
    "            ,WIRE_CENTER_ID\n",
    "            ,CBSA_NAME\n",
    "            ,STATE_CD\n",
    "            ,qualtech\n",
    "       \n",
    "    from    SALES\n",
    "    where   metric = 'EIS'\n",
    "\n",
    ")\n",
    "\n",
    "SELECT  distinct\n",
    "        to_char(h.snapshot_date, 'Mon-YY') as month\n",
    "        ,h.WIRE_CENTER_ID\n",
    "        ,h.CBSA_NAME\n",
    "        ,h.STATE_CD\n",
    "        ,h.qualtech\n",
    "        ,h.lu_cnt as HH_cnt\n",
    "        ,coalesce(e.units,0) as EIS\n",
    "        ,coalesce((e.units / h.lu_cnt),0) as penetration_rate\n",
    "        ,coalesce(s.units,0) as Ins_Sales\n",
    "\n",
    "FROM    HH h\n",
    "        LEFT JOIN EIS e\n",
    "            on h.snapshot_date = e.transaction_date\n",
    "            and h.WIRE_CENTER_ID = e.WIRE_CENTER_ID\n",
    "            and h.CBSA_NAME = e.CBSA_NAME\n",
    "            and h.STATE_CD = e.STATE_CD\n",
    "            and h.qualtech = e.qualtech\n",
    "        LEFT JOIN SALES s\n",
    "            on h.snapshot_date = s.transaction_date\n",
    "            and h.WIRE_CENTER_ID = s.WIRE_CENTER_ID\n",
    "            and h.CBSA_NAME = s.CBSA_NAME\n",
    "            and h.STATE_CD = s.STATE_CD\n",
    "            and h.qualtech = s.qualtech\n",
    "            and s.metric = 'Ins'\n",
    "\n",
    "\"\"\"\n",
    "\n",
    "\n",
    "\n",
    "# Best to run 1-3 months of data at a time\n",
    "\n",
    "sales_ora_df = pd.read_sql(query4, con=conn3)"
   ]
  },
  {
   "cell_type": "code",
   "execution_count": null,
   "id": "d092fcc3",
   "metadata": {},
   "outputs": [],
   "source": [
    "# check sales data\n",
    "#sales_ora_df.to_excel(\"sales_sep2022_QA.xlsx\")\n",
    "sales_ora_df.head()"
   ]
  },
  {
   "cell_type": "code",
   "execution_count": null,
   "id": "23508c6a",
   "metadata": {},
   "outputs": [],
   "source": [
    "# Import wire center datasource from 'Get Accurate Wire Center Base' project\n",
    "Sales_WC_excel = pd.read_excel(r'WireCenterBase/FINAL_wire_center_mapping_DO-NOT-ALTER.xlsx',sheet_name = 'Sheet1')"
   ]
  },
  {
   "cell_type": "code",
   "execution_count": null,
   "id": "f7800f70",
   "metadata": {},
   "outputs": [],
   "source": [
    "# clean base table\n",
    "# check all states are legit\n",
    "# Sales_WC_excel['STATE'].value_counts()\n",
    "\n",
    "wc_df = Sales_WC_excel.copy() #save base table"
   ]
  },
  {
   "cell_type": "code",
   "execution_count": null,
   "id": "298f79fa",
   "metadata": {},
   "outputs": [],
   "source": [
    "wc_df = wc_df.rename(columns = {'WIRE_CENTER_ID': 'PRIMARY_WIRE_CENTER_ID',\n",
    "                                'CBSA_NAME': 'CBSA',\n",
    "                                'DMA_L2': 'DMA'})"
   ]
  },
  {
   "cell_type": "code",
   "execution_count": null,
   "id": "63dac6e5",
   "metadata": {},
   "outputs": [],
   "source": [
    "# Import excel MG readiness data\n",
    "MG_excel_df = pd.read_excel(r'120122_OpportunityScore_MultiGig_Readiness.xlsx',sheet_name = 'Datasheet')\n",
    "\n",
    "# Import excel opportunity score data\n",
    "OppScore_excel_df = pd.read_excel(r'OpportunityScoresMapping/CLLI_ZIP_XREF_WEIGHTED_SCORE.xlsx',sheet_name = 'Final')"
   ]
  },
  {
   "cell_type": "code",
   "execution_count": null,
   "id": "9795d710",
   "metadata": {},
   "outputs": [],
   "source": [
    "# join in opportunity score\n",
    "wc_ora_df = wc_df.merge(OppScore_excel_df[['CLLI','Weighted Opportunity Score']], how = 'left', left_on = 'PRIMARY_WIRE_CENTER_ID', right_on = 'CLLI')"
   ]
  },
  {
   "cell_type": "code",
   "execution_count": null,
   "id": "fd994ed5",
   "metadata": {},
   "outputs": [],
   "source": [
    "wc_ora_df = wc_ora_df.rename(columns = {'DMA_NAME': 'DMA'})"
   ]
  },
  {
   "cell_type": "code",
   "execution_count": null,
   "id": "77778486",
   "metadata": {},
   "outputs": [],
   "source": [
    "# clean data\n",
    "wc_ora_df = wc_ora_df[['STATE','DMA','CBSA','Weighted Opportunity Score','PRIMARY_WIRE_CENTER_ID']].rename(\n",
    "    columns = {\n",
    "        'Weighted Opportunity Score':'OPPORTUNITY_SCORE'})"
   ]
  },
  {
   "cell_type": "code",
   "execution_count": null,
   "id": "c8a01418",
   "metadata": {},
   "outputs": [],
   "source": [
    "# clean mg readiness data - getting core status and monthly planned build - month part needs to be hardcoded manually\n",
    "MG_excel_df = MG_excel_df[['PRIMARY_WIRE_CENTER_ID','Core Status']].rename(\n",
    "    columns = {\n",
    "        'Core Status': 'CORE_READINESS',\n",
    "})"
   ]
  },
  {
   "cell_type": "code",
   "execution_count": null,
   "id": "337a82ef",
   "metadata": {},
   "outputs": [],
   "source": [
    "# join in planned xgs build/core status\n",
    "\n",
    "wc_ora_df = wc_ora_df.merge(MG_excel_df, how = 'left', on = 'PRIMARY_WIRE_CENTER_ID')"
   ]
  },
  {
   "cell_type": "code",
   "execution_count": null,
   "id": "98530c46",
   "metadata": {},
   "outputs": [],
   "source": [
    "# check data\n",
    "wc_ora_df.head()"
   ]
  },
  {
   "cell_type": "code",
   "execution_count": null,
   "id": "91098773",
   "metadata": {},
   "outputs": [],
   "source": [
    "#Import Funding data\n",
    "Construction_Funding_df = pd.read_excel(r'FundingDetailsExport/Details_Export_Table.xlsx',sheet_name = 'Export')"
   ]
  },
  {
   "cell_type": "code",
   "execution_count": null,
   "id": "c717b8e9",
   "metadata": {},
   "outputs": [],
   "source": [
    "Construction_Funding_df['PHASE_ECD_LOGIC'] = Construction_Funding_df['PHASE_ECD_LOGIC'].dt.to_period('M')\n",
    "Construction_Funding_df['PHASE_ECD_LOGIC'] = Construction_Funding_df['PHASE_ECD_LOGIC'].astype(str)\n",
    "Construction_pivot = Construction_Funding_df.groupby(by = [\"PRIMARY_WIRE_CENTER_ID\",\"PHASE_ECD_LOGIC\"], as_index = False).sum()\n",
    "Construction_pivot = Construction_pivot.pivot(index='PRIMARY_WIRE_CENTER_ID', columns='PHASE_ECD_LOGIC')['PHASE_NUM_OF_LUS'].reset_index()\n",
    "Construction_pivot = Construction_pivot.fillna(0)"
   ]
  },
  {
   "cell_type": "code",
   "execution_count": null,
   "id": "8721918c",
   "metadata": {},
   "outputs": [],
   "source": [
    "# check this before manual date update below\n",
    "Construction_pivot.sum()"
   ]
  },
  {
   "cell_type": "code",
   "execution_count": null,
   "id": "0ff86f3b",
   "metadata": {
    "scrolled": true
   },
   "outputs": [],
   "source": [
    "# rename columns\n",
    "Construction_Funding_df = Construction_pivot.copy()\n",
    "Construction_Funding_df = Construction_Funding_df.groupby(\n",
    "    by = [\"PRIMARY_WIRE_CENTER_ID\"], as_index = False).sum().rename(\n",
    "    columns = {\n",
    "        '2022-09': 'SEP-22_XGS_CONSTRUCTION_FUNDED',\n",
    "        '2022-10': 'OCT-22_XGS_CONSTRUCTION_FUNDED',\n",
    "        '2022-11': 'NOV-22_XGS_CONSTRUCTION_FUNDED',\n",
    "        '2022-12': 'DEC-22_XGS_CONSTRUCTION_FUNDED',\n",
    "        '2023-01': 'JAN-23_XGS_CONSTRUCTION_FUNDED',\n",
    "        '2023-02': 'FEB-23_XGS_CONSTRUCTION_FUNDED',\n",
    "        '2023-03': 'MAR-23_XGS_CONSTRUCTION_FUNDED',\n",
    "        '2023-04': 'APR-23_XGS_CONSTRUCTION_FUNDED',\n",
    "        '2023-05': 'MAY-23_XGS_CONSTRUCTION_FUNDED',\n",
    "        '2023-06': 'JUN-23_XGS_CONSTRUCTION_FUNDED',\n",
    "        '2023-07': 'JUL-23_XGS_CONSTRUCTION_FUNDED',\n",
    "        '2023-08': 'AUG-23_XGS_CONSTRUCTION_FUNDED',\n",
    "        '2023-09': 'SEP-23_XGS_CONSTRUCTION_FUNDED',\n",
    "        '2023-10': 'OCT-23_XGS_CONSTRUCTION_FUNDED',\n",
    "        '2023-11': 'NOV-23_XGS_CONSTRUCTION_FUNDED',\n",
    "        '2023-12': 'DEC-23_XGS_CONSTRUCTION_FUNDED',\n",
    "})"
   ]
  },
  {
   "cell_type": "code",
   "execution_count": null,
   "id": "643e0a10",
   "metadata": {},
   "outputs": [],
   "source": [
    "# join in construction funding to base table\n",
    "\n",
    "wc_ora_df = wc_ora_df.merge(Construction_Funding_df, how = 'left', on = 'PRIMARY_WIRE_CENTER_ID')"
   ]
  },
  {
   "cell_type": "markdown",
   "id": "6119986e",
   "metadata": {},
   "source": [
    "## XGS enablement data"
   ]
  },
  {
   "cell_type": "code",
   "execution_count": null,
   "id": "a08b81fc",
   "metadata": {},
   "outputs": [],
   "source": [
    "# join in actual build for XGS - manually update date column name\n",
    "\n",
    "wc_ora_df = wc_ora_df.merge(luqualo_ora_xgs_df[['PRIMARY_WIRE_CENTER_ID','LU_QUAL_CNT']], \n",
    "                            how = 'left', \n",
    "                            on = 'PRIMARY_WIRE_CENTER_ID').rename(\n",
    "    columns = {\n",
    "        'LU_QUAL_CNT': 'NOV-22_ENABLED_XGS_LU'})\n",
    "\n",
    "# clean data/reorder columns - manually adjust date column names\n",
    "wc_ora_df = wc_ora_df.rename(\n",
    "    columns = {\n",
    "        'Weighted Opportunity Score':'OPPORTUNITY_SCORE'})"
   ]
  },
  {
   "cell_type": "markdown",
   "id": "474bbe59",
   "metadata": {},
   "source": [
    "## Salesforce XGS data"
   ]
  },
  {
   "cell_type": "code",
   "execution_count": null,
   "id": "b1020037",
   "metadata": {},
   "outputs": [],
   "source": [
    "# Import Funding data\n",
    "salesforce_xgs_df = pd.read_excel(r'SalesforceExport/salesdata.xlsx',sheet_name = 'Ella XGS Sales')\n",
    "active_xgs_subscribers_df = salesforce_xgs_df[(salesforce_xgs_df['Completion Date'].isna()==False)&(salesforce_xgs_df['Account Status']=='Active')]\n",
    "active_xgs_subscribers_df['Completion Date'] = pd.to_datetime(active_xgs_subscribers_df['Completion Date']).dt.to_period('M')"
   ]
  },
  {
   "cell_type": "code",
   "execution_count": null,
   "id": "ac195c89",
   "metadata": {},
   "outputs": [],
   "source": [
    "# manually update month mask\n",
    "month_mask = active_xgs_subscribers_df['Completion Date'] < '2022-12'\n",
    "\n",
    "active_xgs_subscribers_month_df = active_xgs_subscribers_df[month_mask].groupby(\n",
    "    ['Wire Center'], \n",
    "    as_index=False)['Work Order Number'].nunique()"
   ]
  },
  {
   "cell_type": "code",
   "execution_count": null,
   "id": "9ee6732e",
   "metadata": {},
   "outputs": [],
   "source": [
    "# manually update month field name\n",
    "active_xgs_subscribers_month_df.rename(\n",
    "    columns = {\n",
    "        'Wire Center':'PRIMARY_WIRE_CENTER_ID',\n",
    "        'Work Order Number':'NOV-22_XGS_ACTIVE_SUBS'}, inplace=True)"
   ]
  },
  {
   "cell_type": "code",
   "execution_count": null,
   "id": "ce4007bf",
   "metadata": {},
   "outputs": [],
   "source": [
    "wc_ora_df = wc_ora_df.merge(active_xgs_subscribers_month_df,\n",
    "                how='left',\n",
    "                on='PRIMARY_WIRE_CENTER_ID')"
   ]
  },
  {
   "cell_type": "code",
   "execution_count": null,
   "id": "966e276a",
   "metadata": {},
   "outputs": [],
   "source": [
    "# join in subscribers data sales_ora_df\n",
    "sales_copper = sales_ora_df.loc[sales_ora_df['QUALTECH']=='COPPER',['WIRE_CENTER_ID','HH_CNT','EIS']].groupby(\n",
    "    by = 'WIRE_CENTER_ID', as_index = False).sum()"
   ]
  },
  {
   "cell_type": "code",
   "execution_count": null,
   "id": "98c4441b",
   "metadata": {},
   "outputs": [],
   "source": [
    "sales_gpon = sales_ora_df.loc[sales_ora_df['QUALTECH']=='GPON',['WIRE_CENTER_ID','HH_CNT','EIS']].groupby(\n",
    "    by = 'WIRE_CENTER_ID', as_index = False).sum()\n",
    "sales_xgs = sales_ora_df.loc[sales_ora_df['QUALTECH']=='XGSPON',['WIRE_CENTER_ID','HH_CNT','EIS']].groupby(\n",
    "    by = 'WIRE_CENTER_ID', as_index = False).sum()"
   ]
  },
  {
   "cell_type": "code",
   "execution_count": null,
   "id": "e25c6b60",
   "metadata": {},
   "outputs": [],
   "source": [
    "# join in gpon sales - update date name\n",
    "wc_ora_df = wc_ora_df.merge(sales_gpon, how = 'left', \n",
    "                            left_on = 'PRIMARY_WIRE_CENTER_ID', \n",
    "                            right_on = 'WIRE_CENTER_ID').drop('WIRE_CENTER_ID', axis = 1).rename(\n",
    "    columns = {\n",
    "        'HH_CNT':'NOV-22_GPON_ENABLED_HH',\n",
    "        'EIS':'NOV-22_GPON_ACTIVE_SUBS'})"
   ]
  },
  {
   "cell_type": "code",
   "execution_count": null,
   "id": "460ca1fd",
   "metadata": {},
   "outputs": [],
   "source": [
    "# join in copper sales - update date name\n",
    "wc_ora_df = wc_ora_df.merge(sales_copper, \n",
    "                            how = 'left', \n",
    "                            left_on = 'PRIMARY_WIRE_CENTER_ID', \n",
    "                            right_on = 'WIRE_CENTER_ID').drop('WIRE_CENTER_ID', axis = 1).rename(\n",
    "    columns = {\n",
    "        'HH_CNT':'NOV-22_COPPER_ENABLED_HH',\n",
    "        'EIS':'NOV-22_COPPER_ACTIVE_SUBS'})"
   ]
  },
  {
   "cell_type": "code",
   "execution_count": null,
   "id": "d3a58f1f",
   "metadata": {},
   "outputs": [],
   "source": [
    "wc_ora_df[['OPPORTUNITY_SCORE','CORE_READINESS']] = wc_ora_df[['OPPORTUNITY_SCORE','CORE_READINESS']].fillna('N/A')"
   ]
  },
  {
   "cell_type": "code",
   "execution_count": null,
   "id": "6c0fa23f",
   "metadata": {},
   "outputs": [],
   "source": [
    "# missing xgs active subs, planned xgs for entire year\n",
    "wc_ora_df.columns"
   ]
  },
  {
   "cell_type": "code",
   "execution_count": null,
   "id": "0f9e86ea",
   "metadata": {
    "scrolled": false
   },
   "outputs": [],
   "source": [
    "import time\n",
    "\n",
    "# export\n",
    "TodaysDate = time.strftime(\"%m%d%y\")\n",
    "excelfilename = \"Output/\" + TodaysDate +\"_WC_Universe_Cumulative_Rpt_Data_DEC22.xlsx\"\n",
    "\n",
    "with pd.ExcelWriter(excelfilename) as writer:  \n",
    "    wc_ora_df.to_excel(writer, sheet_name='Cumulative Data', index = False)\n",
    "    luqualo_ora_xgs_df.to_excel(writer, sheet_name='LUQUAL Build Details XGS', index = False)\n",
    "    Construction_Funding_df.to_excel(writer, sheet_name='ST Construction Funding Details', index = False)\n",
    "    sales_ora_df.to_excel(writer, sheet_name='Sales Data Details', index = False)\n",
    "    salesforce_xgs_df.to_excel(writer, sheet_name='Salesforce Details', index = False)"
   ]
  },
  {
   "cell_type": "code",
   "execution_count": null,
   "id": "0fd32d45",
   "metadata": {},
   "outputs": [],
   "source": []
  }
 ],
 "metadata": {
  "kernelspec": {
   "display_name": "Python 3 (ipykernel)",
   "language": "python",
   "name": "python3"
  },
  "language_info": {
   "codemirror_mode": {
    "name": "ipython",
    "version": 3
   },
   "file_extension": ".py",
   "mimetype": "text/x-python",
   "name": "python",
   "nbconvert_exporter": "python",
   "pygments_lexer": "ipython3",
   "version": "3.9.12"
  }
 },
 "nbformat": 4,
 "nbformat_minor": 5
}
