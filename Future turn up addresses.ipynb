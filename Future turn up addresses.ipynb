{
 "cells": [
  {
   "cell_type": "code",
   "execution_count": 1,
   "id": "1c151dad",
   "metadata": {},
   "outputs": [],
   "source": [
    "import os\n",
    "import sys\n",
    "import pandas as pd\n",
    "import numpy as np\n",
    "import cx_Oracle\n",
    "cx_Oracle.init_oracle_client(lib_dir=r\"C:\\Oracle\\instantclient_21_6\")"
   ]
  },
  {
   "cell_type": "markdown",
   "id": "32a9c82d",
   "metadata": {},
   "source": [
    "### Queries"
   ]
  },
  {
   "cell_type": "code",
   "execution_count": 2,
   "id": "a55ff27e",
   "metadata": {},
   "outputs": [],
   "source": [
    "# FRAM001P\n",
    "conn = cx_Oracle.connect(\n",
    "    user=\"AD21236\",\n",
    "    password=\"L2022$Um\",\n",
    "    dsn=\"RACORAP08-SCAN.CORP.INTRANET/FRAM001P_PROD\",\n",
    "    encoding=\"UTF-8\")"
   ]
  },
  {
   "cell_type": "code",
   "execution_count": 3,
   "id": "733c45e4",
   "metadata": {},
   "outputs": [
    {
     "name": "stderr",
     "output_type": "stream",
     "text": [
      "C:\\Users\\AD21236\\Anaconda3\\lib\\site-packages\\pandas\\io\\sql.py:761: UserWarning: pandas only support SQLAlchemy connectable(engine/connection) ordatabase string URI or sqlite3 DBAPI2 connectionother DBAPI2 objects are not tested, please consider using SQLAlchemy\n",
      "  warnings.warn(\n"
     ]
    },
    {
     "name": "stdout",
     "output_type": "stream",
     "text": [
      "CPU times: total: 438 ms\n",
      "Wall time: 14.7 s\n"
     ]
    }
   ],
   "source": [
    "%%time\n",
    "\n",
    "# count of MG enabled LUs at wire center level\n",
    "# 10/24/22 - add UNI ecd date\n",
    "# 10/25/22 - add N. number per Jen request\n",
    "\n",
    "mg_query = \"\"\"\n",
    "\n",
    "            SELECT  distinct\n",
    "                    O.WIRE_CENTER_ID\n",
    "                    ,O.UNI_POLYGONID\n",
    "                    ,O.ADDRESS\n",
    "                    ,O.HNO\n",
    "                    ,O.H_SUFFIX\n",
    "                    ,O.H_PRE\n",
    "                    ,O.ST\n",
    "                    ,O.ST_SUFFIX\n",
    "                    ,O.ST_POST\n",
    "                    ,O.UNIT\n",
    "                    ,O.COM\n",
    "                    ,O.STATE\n",
    "                    ,O.ZIP_CODE\n",
    "                    ,O.LU_LATITUDE\n",
    "                    ,O.LU_LONGITUDE\n",
    "                    ,O.UNI_ECD\n",
    "                    ,O.UNI_NDSJOBNUMBER\n",
    "                    ,O.NDSJOBID\n",
    "\n",
    "                    \n",
    "            FROM    LQSMO.LU_QUAL_O O\n",
    "            \n",
    "            WHERE   ADDRESS <> '7599 S WHEELING CT'\n",
    "                    AND (UNI_SERVICETYPE LIKE 'XGS%' \n",
    "                        OR TECH_TYPE LIKE 'XGS' \n",
    "                        OR OLT_TYPE='ADTRAN-SDX6320-16-XGS-PON') \n",
    "                    AND uni_status='IN SERVICE'\n",
    "                    AND UNI_POLYGONID in (\n",
    "\n",
    "                                         '1179499',  -- PHNXAZNE\n",
    "                                          '1179547', '1179498', '1179121','1180067','1180494','1189253', -- PHNXAZSO\n",
    "                                          '1178832', -- ARVDCOMA\n",
    "                                          '1179849','1180344','1180107','1180306',-- MPLSMNBE \n",
    "                                          '1180028', '1178694', '1179569','1180333',-- MPLSMNBE \n",
    "                                          '1179862', '1179836', '1179604', '1179838', '1179887', '1180054', '1180222', -- MPLSMNBE\n",
    "                                          '1178144', --PYLPWA01\n",
    "                                          '1179687', '1179674','1180254', --GLDNCOMA\n",
    "                                          '1180012','1180391', -- PTLDOR11\n",
    "                                          '1179864', -- DNVRCOMA \n",
    "                                          '1179553','1179924','1179922', -- STPLMNBE \n",
    "                                          '1179688','1179157', '1179574',  -- MPLSMNTF\n",
    "                                          '1180026','1180288','1179808','1179976', -- MPLSMNGE\n",
    "                                          '1179583', -- DNVRCODC\n",
    "                                          '1179774','1180265','1180031','1180237','1180468', -- CRYSMNCR\n",
    "                                          '1180315','1189074','1189058', -- MRRYUTMA\n",
    "                                          '1179708','1179714','1179719','1180072','1180075','1180089','1180095', -- TCSNAZMA\n",
    "                                          '1180096','1179639','1179689','1179690','1179700','1179701','1179702', -- TCSNAZMA\n",
    "                                          '1179703','1179704','1179718','1179793','1179803','1180092','550715', -- TCSNAZMA\n",
    "                                          '1180094','1180507','1180076','1180079','1180492','1180497','1180486',  --TCSNAZMA\n",
    "                                          '1180091','1179913','1189283',  --TCSNAZMA\n",
    "                                          '1179641','1179914', --TCSNAZCR\n",
    "                                          '1179840','1180355', --STTLWA04\n",
    "                                          '1180086','1180111','1180327','1180436', --STTLWASU\n",
    "                                          '1179576','1179672','1179971','1179977','1179979','1179981','1179987', --CLSPCOMA\n",
    "                                          '1179988','1179989','1179994','1180005','1180006','1180041','1180123', --CLSPCOMA\n",
    "                                          '1189130', --MLWKOR17\n",
    "                                          '1179352','1180002','1189088', --MAGNUTNM\n",
    "                                          '1179858','1180015','1180098','1180392','1180399', --SPKNWA01\n",
    "                                          '1180027', --BRCTMNBC\n",
    "                                          '1180491','1180509', --PHNXAZNO\n",
    "                                          '1180488','1180496', --TCSNAZRN\n",
    "                                          '1189200' --DNVRCOCL                          \n",
    "                      \n",
    "                                          \n",
    "                                          )\n",
    "\n",
    "\n",
    "\"\"\"\n",
    "\n",
    "mg_lu_ora = pd.read_sql(mg_query, con=conn) #contains total lu at wc level"
   ]
  },
  {
   "cell_type": "code",
   "execution_count": 4,
   "id": "b6bf970e",
   "metadata": {},
   "outputs": [],
   "source": [
    "# export\n",
    "\n",
    "import time\n",
    "\n",
    "TodaysDate = time.strftime(\"%m%d%y\")\n",
    "excelfilename = \"Output/\" + TodaysDate +\"_mg_polygon_addresses.xlsx\"\n",
    "\n",
    "with pd.ExcelWriter(excelfilename) as writer:\n",
    "    mg_lu_ora.to_excel(writer, sheet_name='main addresses', index = False)\n",
    "#     df_1179808.to_excel(writer, sheet_name='1179808', index = False)"
   ]
  },
  {
   "cell_type": "code",
   "execution_count": null,
   "id": "7bd244d7",
   "metadata": {},
   "outputs": [],
   "source": []
  }
 ],
 "metadata": {
  "kernelspec": {
   "display_name": "Python 3 (ipykernel)",
   "language": "python",
   "name": "python3"
  },
  "language_info": {
   "codemirror_mode": {
    "name": "ipython",
    "version": 3
   },
   "file_extension": ".py",
   "mimetype": "text/x-python",
   "name": "python",
   "nbconvert_exporter": "python",
   "pygments_lexer": "ipython3",
   "version": "3.9.12"
  }
 },
 "nbformat": 4,
 "nbformat_minor": 5
}
