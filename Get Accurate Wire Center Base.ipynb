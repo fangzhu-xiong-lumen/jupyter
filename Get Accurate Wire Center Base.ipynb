{
 "cells": [
  {
   "cell_type": "markdown",
   "id": "b1fc2d1a",
   "metadata": {},
   "source": [
    "The purpose of this workbook is to get a cumulative and accurate wire center base for other reporting functions.\n",
    "The code obtains raw wire center information from sales table and from Matthew's wire center base, then merges them to form a unique/accurate wire center base.\n",
    "\n",
    "The reason this is broken out into its own workbook is the amount of time the wire center data takes to run, and so to keep the process efficient, the code is run during down time and the resulting output is exported to an excel sheet once per week to be utilized for other reporting.\n",
    "\n",
    "Note: wire center base should not change that much, but running once a week will assure accuracy in case there are changes"
   ]
  },
  {
   "cell_type": "code",
   "execution_count": 1,
   "id": "6fa41f7f",
   "metadata": {},
   "outputs": [],
   "source": [
    "import os\n",
    "import sys\n",
    "import pandas as pd\n",
    "import numpy as np\n",
    "import cx_Oracle\n",
    "cx_Oracle.init_oracle_client(lib_dir=r\"C:\\Oracle\\instantclient_21_6\")"
   ]
  },
  {
   "cell_type": "code",
   "execution_count": 2,
   "id": "c5352cb0",
   "metadata": {},
   "outputs": [],
   "source": [
    "#CCDWO1P - SALES WC base\n",
    "conn = cx_Oracle.connect(\n",
    "    user=\"AD21236\",\n",
    "    password=\"C#ntury123\",\n",
    "    dsn=\"racorap33-scan.corp.intranet:1521/ccdw01p_users\",\n",
    "    encoding=\"UTF-8\")\n",
    "\n",
    "#crdmprd - WC base from Matt\n",
    "conn2 = cx_Oracle.connect(\n",
    "    user=\"AD21236\",\n",
    "    password=\"C3ntury123\",\n",
    "    dsn=\"crdm.qintra.com:1526/crdmprd\",\n",
    "    encoding=\"UTF-8\")"
   ]
  },
  {
   "cell_type": "code",
   "execution_count": 16,
   "id": "f31ab686",
   "metadata": {
    "scrolled": false
   },
   "outputs": [
    {
     "name": "stderr",
     "output_type": "stream",
     "text": [
      "C:\\Users\\AD21236\\Anaconda3\\lib\\site-packages\\pandas\\io\\sql.py:761: UserWarning: pandas only support SQLAlchemy connectable(engine/connection) ordatabase string URI or sqlite3 DBAPI2 connectionother DBAPI2 objects are not tested, please consider using SQLAlchemy\n",
      "  warnings.warn(\n"
     ]
    },
    {
     "name": "stdout",
     "output_type": "stream",
     "text": [
      "CPU times: total: 0 ns\n",
      "Wall time: 34min 51s\n"
     ]
    }
   ],
   "source": [
    "%%time\n",
    "\n",
    "#qualifications\n",
    "# 46 mins\n",
    "query = \"\"\"\n",
    "\n",
    "    select  distinct\n",
    "            WIRE_CENTER_ID\n",
    "            ,STATE\n",
    "            ,CBSA_NAME\n",
    "            ,DMA_L2\n",
    "\n",
    "    from \n",
    "            rpcarte.dd_t5846_hh_fp_sbg t\n",
    " \n",
    "    where   1=1\n",
    "            and ilec_ops = 'LUMEN'\n",
    " \n",
    "\n",
    "\"\"\"\n",
    "\n",
    "df_ora = pd.read_sql(query, con=conn)"
   ]
  },
  {
   "cell_type": "code",
   "execution_count": 17,
   "id": "9c6426b6",
   "metadata": {},
   "outputs": [],
   "source": [
    "# raw data - cleaning after to group unique wire center id and concatenate other fields if applicable\n",
    "df_ora.to_excel(\"sales_db_wire_center_mapping.xlsx\")"
   ]
  },
  {
   "cell_type": "code",
   "execution_count": 18,
   "id": "8b046464",
   "metadata": {},
   "outputs": [
    {
     "name": "stderr",
     "output_type": "stream",
     "text": [
      "C:\\Users\\AD21236\\Anaconda3\\lib\\site-packages\\pandas\\io\\sql.py:761: UserWarning: pandas only support SQLAlchemy connectable(engine/connection) ordatabase string URI or sqlite3 DBAPI2 connectionother DBAPI2 objects are not tested, please consider using SQLAlchemy\n",
      "  warnings.warn(\n"
     ]
    },
    {
     "name": "stdout",
     "output_type": "stream",
     "text": [
      "CPU times: total: 31.2 ms\n",
      "Wall time: 6.24 s\n"
     ]
    }
   ],
   "source": [
    "%%time\n",
    "\n",
    "wc_query = \"\"\"\n",
    "\n",
    "            select  DISTINCT \n",
    "                    COALESCE(WC_CBSA.CLLI, WC_DMA.WC) AS WIRE_CENTER_ID\n",
    "                    ,WC_CBSA.CBSA_NAME\n",
    "                    ,WC_DMA.DMA_NAME\n",
    "                    \n",
    "            FROM    CSDAT.WC_DOM_CBSA WC_CBSA\n",
    "                    FULL JOIN CSDAT.WC_DOM_DMA WC_DMA\n",
    "                        ON WC_CBSA.CLLI = WC_DMA.WC\n",
    "                    LEFT JOIN geomkt.brspd_wire_center brightspeed\n",
    "                        ON COALESCE(WC_CBSA.CLLI, WC_DMA.WC) = brightspeed.WIRE_CENTER_ID\n",
    "                        \n",
    "            WHERE   brightspeed.WIRE_CENTER_ID is null --this should filter out all brightspeed wire centers\n",
    "\n",
    "\"\"\"\n",
    "\n",
    "wc_ora = pd.read_sql(wc_query, con=conn2)"
   ]
  },
  {
   "cell_type": "code",
   "execution_count": 19,
   "id": "96eeaa6f",
   "metadata": {},
   "outputs": [
    {
     "data": {
      "text/plain": [
       "(1739, 3)"
      ]
     },
     "execution_count": 19,
     "metadata": {},
     "output_type": "execute_result"
    }
   ],
   "source": [
    "wc_ora.shape"
   ]
  },
  {
   "cell_type": "code",
   "execution_count": 20,
   "id": "f6eb48a9",
   "metadata": {},
   "outputs": [],
   "source": [
    "# pd.set_option('display.max_columns', None)\n",
    "# pd.set_option('display.max_rows', None)\n",
    "# pd.set_option('display.width', None)\n",
    "# pd.set_option('display.max_colwidth', None)"
   ]
  },
  {
   "cell_type": "code",
   "execution_count": 21,
   "id": "6bf733ca",
   "metadata": {},
   "outputs": [
    {
     "data": {
      "text/html": [
       "<div>\n",
       "<style scoped>\n",
       "    .dataframe tbody tr th:only-of-type {\n",
       "        vertical-align: middle;\n",
       "    }\n",
       "\n",
       "    .dataframe tbody tr th {\n",
       "        vertical-align: top;\n",
       "    }\n",
       "\n",
       "    .dataframe thead th {\n",
       "        text-align: right;\n",
       "    }\n",
       "</style>\n",
       "<table border=\"1\" class=\"dataframe\">\n",
       "  <thead>\n",
       "    <tr style=\"text-align: right;\">\n",
       "      <th></th>\n",
       "      <th>WIRE_CENTER_ID</th>\n",
       "      <th>CBSA_NAME</th>\n",
       "      <th>DMA_NAME</th>\n",
       "    </tr>\n",
       "  </thead>\n",
       "  <tbody>\n",
       "    <tr>\n",
       "      <th>0</th>\n",
       "      <td>ABRDSDCO</td>\n",
       "      <td>ABERDEEN, SD</td>\n",
       "      <td>SIOUX FALLS (MITCHELL) SD</td>\n",
       "    </tr>\n",
       "    <tr>\n",
       "      <th>1</th>\n",
       "      <td>ABRDWA01</td>\n",
       "      <td>ABERDEEN, WA</td>\n",
       "      <td>SEATTLE-TACOMA WA</td>\n",
       "    </tr>\n",
       "    <tr>\n",
       "      <th>2</th>\n",
       "      <td>ACKLIACO</td>\n",
       "      <td>NON-CBSA</td>\n",
       "      <td>DES MOINES-AMES IA</td>\n",
       "    </tr>\n",
       "    <tr>\n",
       "      <th>3</th>\n",
       "      <td>ADAROR21</td>\n",
       "      <td>CORVALLIS, OR</td>\n",
       "      <td>EUGENE OR</td>\n",
       "    </tr>\n",
       "    <tr>\n",
       "      <th>4</th>\n",
       "      <td>ADELIACO</td>\n",
       "      <td>DES MOINES-WEST DES MOINES, IA</td>\n",
       "      <td>DES MOINES-AMES IA</td>\n",
       "    </tr>\n",
       "  </tbody>\n",
       "</table>\n",
       "</div>"
      ],
      "text/plain": [
       "  WIRE_CENTER_ID                       CBSA_NAME                   DMA_NAME\n",
       "0       ABRDSDCO                    ABERDEEN, SD  SIOUX FALLS (MITCHELL) SD\n",
       "1       ABRDWA01                    ABERDEEN, WA          SEATTLE-TACOMA WA\n",
       "2       ACKLIACO                        NON-CBSA         DES MOINES-AMES IA\n",
       "3       ADAROR21                   CORVALLIS, OR                  EUGENE OR\n",
       "4       ADELIACO  DES MOINES-WEST DES MOINES, IA         DES MOINES-AMES IA"
      ]
     },
     "execution_count": 21,
     "metadata": {},
     "output_type": "execute_result"
    }
   ],
   "source": [
    "wc_ora.head()"
   ]
  },
  {
   "cell_type": "code",
   "execution_count": 22,
   "id": "111f0dde",
   "metadata": {},
   "outputs": [],
   "source": [
    "# cleaning data to get state column\n",
    "\n",
    "wc_ora[\"DMA_NAME\"] = wc_ora[\"DMA_NAME\"].fillna(' ')\n",
    "wc_ora['STATE1'] = wc_ora['CBSA_NAME'].str.rsplit(',').str[-1] \n",
    "wc_ora['STATE2'] = [x.rsplit(\" \", 1)[-1] for x in wc_ora[\"DMA_NAME\"]]\n",
    "wc_ora['STATE2'] = wc_ora['STATE2'].str.strip('()')\n",
    "wc_ora['STATE'] = np.where(wc_ora['STATE1'] == 'NON-CBSA',wc_ora['STATE2'],wc_ora['STATE1'])\n",
    "wc_ora['STATE'] = wc_ora['STATE'].str.replace(' ', '')"
   ]
  },
  {
   "cell_type": "code",
   "execution_count": 23,
   "id": "8c13e5f2",
   "metadata": {},
   "outputs": [],
   "source": [
    "wc_ora = wc_ora[['WIRE_CENTER_ID','STATE','CBSA_NAME','DMA_NAME']]"
   ]
  },
  {
   "cell_type": "code",
   "execution_count": 24,
   "id": "2ecf55b6",
   "metadata": {},
   "outputs": [
    {
     "data": {
      "text/plain": [
       "(1739, 4)"
      ]
     },
     "execution_count": 24,
     "metadata": {},
     "output_type": "execute_result"
    }
   ],
   "source": [
    "wc_ora.shape"
   ]
  },
  {
   "cell_type": "code",
   "execution_count": 25,
   "id": "fa46f547",
   "metadata": {},
   "outputs": [
    {
     "data": {
      "text/plain": [
       "CO          207\n",
       "WA          173\n",
       "AZ          130\n",
       "FL          125\n",
       "OR          123\n",
       "MN          111\n",
       "IA          106\n",
       "MN-WI        97\n",
       "MT           74\n",
       "NM           70\n",
       "UT           63\n",
       "ID           60\n",
       "NE           50\n",
       "SD           43\n",
       "WI           36\n",
       "OR-WA        29\n",
       "NE-IA        24\n",
       "ND           24\n",
       "NV           21\n",
       "ND-MN        18\n",
       "WY           16\n",
       "IA-NE-SD     12\n",
       "IA-IL         7\n",
       "UT-ID         7\n",
       "OR-ID         6\n",
       "GA            5\n",
       "              4\n",
       "AL            2\n",
       "IA-IL-MO      2\n",
       "ID-WA         2\n",
       "IL            1\n",
       "WI-MN         1\n",
       "WY-ID         1\n",
       "TX            1\n",
       "Name: STATE, dtype: int64"
      ]
     },
     "execution_count": 25,
     "metadata": {},
     "output_type": "execute_result"
    }
   ],
   "source": [
    "# check state values\n",
    "wc_ora.STATE.value_counts()"
   ]
  },
  {
   "cell_type": "code",
   "execution_count": 26,
   "id": "38d48039",
   "metadata": {},
   "outputs": [],
   "source": [
    "# Import sales dc wc info\n",
    "Sales_WC_excel = pd.read_excel(r'sales_db_wire_center_mapping.xlsx',sheet_name = 'Sheet1')"
   ]
  },
  {
   "cell_type": "code",
   "execution_count": 27,
   "id": "6a13f64f",
   "metadata": {},
   "outputs": [
    {
     "data": {
      "text/html": [
       "<div>\n",
       "<style scoped>\n",
       "    .dataframe tbody tr th:only-of-type {\n",
       "        vertical-align: middle;\n",
       "    }\n",
       "\n",
       "    .dataframe tbody tr th {\n",
       "        vertical-align: top;\n",
       "    }\n",
       "\n",
       "    .dataframe thead th {\n",
       "        text-align: right;\n",
       "    }\n",
       "</style>\n",
       "<table border=\"1\" class=\"dataframe\">\n",
       "  <thead>\n",
       "    <tr style=\"text-align: right;\">\n",
       "      <th></th>\n",
       "      <th>WIRE_CENTER_ID</th>\n",
       "      <th>STATE</th>\n",
       "      <th>CBSA_NAME</th>\n",
       "      <th>DMA_L2</th>\n",
       "    </tr>\n",
       "  </thead>\n",
       "  <tbody>\n",
       "    <tr>\n",
       "      <th>0</th>\n",
       "      <td>ESMNWI</td>\n",
       "      <td>WI</td>\n",
       "      <td>NON-CBSA</td>\n",
       "      <td>LA CROSSE-EAU CLAIRE</td>\n",
       "    </tr>\n",
       "    <tr>\n",
       "      <th>1</th>\n",
       "      <td>WHTNNDBC</td>\n",
       "      <td>MN</td>\n",
       "      <td>WAHPETON, ND-MN</td>\n",
       "      <td>FARGO-VALLEY CITY</td>\n",
       "    </tr>\n",
       "    <tr>\n",
       "      <th>2</th>\n",
       "      <td>WNDMMNWI</td>\n",
       "      <td>MN</td>\n",
       "      <td>NON-CBSA</td>\n",
       "      <td>MINNEAPOLIS-ST. PAUL</td>\n",
       "    </tr>\n",
       "    <tr>\n",
       "      <th>3</th>\n",
       "      <td>DNBRIACO</td>\n",
       "      <td>IA</td>\n",
       "      <td>SIOUX CITY, IA-NE-SD</td>\n",
       "      <td>SIOUX CITY</td>\n",
       "    </tr>\n",
       "    <tr>\n",
       "      <th>4</th>\n",
       "      <td>STMCMN</td>\n",
       "      <td>MN</td>\n",
       "      <td>MINNEAPOLIS-ST. PAUL-BLOOMINGTON, MN-WI</td>\n",
       "      <td>MINNEAPOLIS-ST. PAUL</td>\n",
       "    </tr>\n",
       "  </tbody>\n",
       "</table>\n",
       "</div>"
      ],
      "text/plain": [
       "  WIRE_CENTER_ID STATE                                CBSA_NAME  \\\n",
       "0         ESMNWI    WI                                 NON-CBSA   \n",
       "1       WHTNNDBC    MN                          WAHPETON, ND-MN   \n",
       "2       WNDMMNWI    MN                                 NON-CBSA   \n",
       "3       DNBRIACO    IA                     SIOUX CITY, IA-NE-SD   \n",
       "4         STMCMN    MN  MINNEAPOLIS-ST. PAUL-BLOOMINGTON, MN-WI   \n",
       "\n",
       "                 DMA_L2  \n",
       "0  LA CROSSE-EAU CLAIRE  \n",
       "1     FARGO-VALLEY CITY  \n",
       "2  MINNEAPOLIS-ST. PAUL  \n",
       "3            SIOUX CITY  \n",
       "4  MINNEAPOLIS-ST. PAUL  "
      ]
     },
     "execution_count": 27,
     "metadata": {},
     "output_type": "execute_result"
    }
   ],
   "source": [
    "Sales_WC_excel.head()"
   ]
  },
  {
   "cell_type": "code",
   "execution_count": 28,
   "id": "5868abd3",
   "metadata": {},
   "outputs": [
    {
     "data": {
      "text/plain": [
       "1879"
      ]
     },
     "execution_count": 28,
     "metadata": {},
     "output_type": "execute_result"
    }
   ],
   "source": [
    "Sales_WC_excel['WIRE_CENTER_ID'].nunique()"
   ]
  },
  {
   "cell_type": "code",
   "execution_count": 29,
   "id": "c33d42e5",
   "metadata": {},
   "outputs": [
    {
     "name": "stderr",
     "output_type": "stream",
     "text": [
      "C:\\Windows\\Temp\\ipykernel_16464\\1500374550.py:1: FutureWarning: Indexing with multiple keys (implicitly converted to a tuple of keys) will be deprecated, use a list instead.\n",
      "  Sales_final_wc_list = Sales_WC_excel.groupby('WIRE_CENTER_ID')['STATE','CBSA_NAME','DMA_L2'].agg(lambda x: ','.join(x.dropna())).reset_index()\n"
     ]
    }
   ],
   "source": [
    "Sales_final_wc_list = Sales_WC_excel.groupby('WIRE_CENTER_ID')['STATE','CBSA_NAME','DMA_L2'].agg(lambda x: ','.join(x.dropna())).reset_index()"
   ]
  },
  {
   "cell_type": "code",
   "execution_count": 30,
   "id": "05276cfe",
   "metadata": {},
   "outputs": [],
   "source": [
    "# combine wc's from multiple sources\n",
    "wc_combined = wc_ora.merge(Sales_final_wc_list, how = 'outer', on = 'WIRE_CENTER_ID')"
   ]
  },
  {
   "cell_type": "code",
   "execution_count": 31,
   "id": "d0c72719",
   "metadata": {
    "scrolled": false
   },
   "outputs": [
    {
     "data": {
      "text/html": [
       "<div>\n",
       "<style scoped>\n",
       "    .dataframe tbody tr th:only-of-type {\n",
       "        vertical-align: middle;\n",
       "    }\n",
       "\n",
       "    .dataframe tbody tr th {\n",
       "        vertical-align: top;\n",
       "    }\n",
       "\n",
       "    .dataframe thead th {\n",
       "        text-align: right;\n",
       "    }\n",
       "</style>\n",
       "<table border=\"1\" class=\"dataframe\">\n",
       "  <thead>\n",
       "    <tr style=\"text-align: right;\">\n",
       "      <th></th>\n",
       "      <th>WIRE_CENTER_ID</th>\n",
       "      <th>STATE_x</th>\n",
       "      <th>CBSA_NAME_x</th>\n",
       "      <th>DMA_NAME</th>\n",
       "      <th>STATE_y</th>\n",
       "      <th>CBSA_NAME_y</th>\n",
       "      <th>DMA_L2</th>\n",
       "    </tr>\n",
       "  </thead>\n",
       "  <tbody>\n",
       "    <tr>\n",
       "      <th>0</th>\n",
       "      <td>ABRDSDCO</td>\n",
       "      <td>SD</td>\n",
       "      <td>ABERDEEN, SD</td>\n",
       "      <td>SIOUX FALLS (MITCHELL) SD</td>\n",
       "      <td>SD</td>\n",
       "      <td>ABERDEEN, SD</td>\n",
       "      <td>SIOUX FLS(MCHL)</td>\n",
       "    </tr>\n",
       "    <tr>\n",
       "      <th>1</th>\n",
       "      <td>ABRDWA01</td>\n",
       "      <td>WA</td>\n",
       "      <td>ABERDEEN, WA</td>\n",
       "      <td>SEATTLE-TACOMA WA</td>\n",
       "      <td>WA</td>\n",
       "      <td>ABERDEEN, WA</td>\n",
       "      <td>SEATTLE-TACOMA</td>\n",
       "    </tr>\n",
       "    <tr>\n",
       "      <th>2</th>\n",
       "      <td>ACKLIACO</td>\n",
       "      <td>IA</td>\n",
       "      <td>NON-CBSA</td>\n",
       "      <td>DES MOINES-AMES IA</td>\n",
       "      <td>IA</td>\n",
       "      <td>NON-CBSA</td>\n",
       "      <td>DES MOINES-AMES</td>\n",
       "    </tr>\n",
       "    <tr>\n",
       "      <th>3</th>\n",
       "      <td>ADAROR21</td>\n",
       "      <td>OR</td>\n",
       "      <td>CORVALLIS, OR</td>\n",
       "      <td>EUGENE OR</td>\n",
       "      <td>OR</td>\n",
       "      <td>CORVALLIS, OR</td>\n",
       "      <td>EUGENE</td>\n",
       "    </tr>\n",
       "    <tr>\n",
       "      <th>4</th>\n",
       "      <td>ADELIACO</td>\n",
       "      <td>IA</td>\n",
       "      <td>DES MOINES-WEST DES MOINES, IA</td>\n",
       "      <td>DES MOINES-AMES IA</td>\n",
       "      <td>IA</td>\n",
       "      <td>DES MOINES-WEST DES MOINES, IA</td>\n",
       "      <td>DES MOINES-AMES</td>\n",
       "    </tr>\n",
       "  </tbody>\n",
       "</table>\n",
       "</div>"
      ],
      "text/plain": [
       "  WIRE_CENTER_ID STATE_x                     CBSA_NAME_x  \\\n",
       "0       ABRDSDCO      SD                    ABERDEEN, SD   \n",
       "1       ABRDWA01      WA                    ABERDEEN, WA   \n",
       "2       ACKLIACO      IA                        NON-CBSA   \n",
       "3       ADAROR21      OR                   CORVALLIS, OR   \n",
       "4       ADELIACO      IA  DES MOINES-WEST DES MOINES, IA   \n",
       "\n",
       "                    DMA_NAME STATE_y                     CBSA_NAME_y  \\\n",
       "0  SIOUX FALLS (MITCHELL) SD      SD                    ABERDEEN, SD   \n",
       "1          SEATTLE-TACOMA WA      WA                    ABERDEEN, WA   \n",
       "2         DES MOINES-AMES IA      IA                        NON-CBSA   \n",
       "3                  EUGENE OR      OR                   CORVALLIS, OR   \n",
       "4         DES MOINES-AMES IA      IA  DES MOINES-WEST DES MOINES, IA   \n",
       "\n",
       "            DMA_L2  \n",
       "0  SIOUX FLS(MCHL)  \n",
       "1   SEATTLE-TACOMA  \n",
       "2  DES MOINES-AMES  \n",
       "3           EUGENE  \n",
       "4  DES MOINES-AMES  "
      ]
     },
     "execution_count": 31,
     "metadata": {},
     "output_type": "execute_result"
    }
   ],
   "source": [
    "wc_combined.head()"
   ]
  },
  {
   "cell_type": "code",
   "execution_count": 32,
   "id": "eec5c749",
   "metadata": {},
   "outputs": [],
   "source": [
    "# Getting non-null state/cbsa/dma final columns\n",
    "\n",
    "wc_combined['STATE'] = np.where(wc_combined['STATE_x'].isna(),wc_combined['STATE_y'],wc_combined['STATE_x'])\n",
    "wc_combined['CBSA_NAME'] = np.where(wc_combined['CBSA_NAME_x'].isna(),wc_combined['CBSA_NAME_y'],wc_combined['CBSA_NAME_x'])\n",
    "wc_combined['DMA_NAME'] = np.where(wc_combined['DMA_NAME'].isna(),wc_combined['DMA_L2'],wc_combined['DMA_NAME'])\n",
    "\n",
    "#drop other columns\n",
    "wc_combined = wc_combined.drop(['STATE_x','CBSA_NAME_x','STATE_y','CBSA_NAME_y','DMA_L2'], axis = 1)"
   ]
  },
  {
   "cell_type": "code",
   "execution_count": 33,
   "id": "a92461a1",
   "metadata": {},
   "outputs": [],
   "source": [
    "wc_combined['STATE2'] = [x.rsplit(\" \", 1)[-1] for x in wc_combined[\"DMA_NAME\"]]"
   ]
  },
  {
   "cell_type": "code",
   "execution_count": 34,
   "id": "df4f2829",
   "metadata": {},
   "outputs": [],
   "source": [
    "wc_combined['STATE'] = np.where(wc_combined['STATE'].isna(),wc_combined['STATE2'],wc_combined['STATE'])\n",
    "wc_combined = wc_combined.drop(['STATE2'], axis = 1)"
   ]
  },
  {
   "cell_type": "code",
   "execution_count": 35,
   "id": "ec40420a",
   "metadata": {},
   "outputs": [],
   "source": [
    "#rearrange columns\n",
    "\n",
    "wc_combined = wc_combined[['WIRE_CENTER_ID', 'STATE', 'CBSA_NAME', 'DMA_NAME']]"
   ]
  },
  {
   "cell_type": "code",
   "execution_count": 36,
   "id": "ae68523d",
   "metadata": {},
   "outputs": [
    {
     "data": {
      "text/plain": [
       "1967"
      ]
     },
     "execution_count": 36,
     "metadata": {},
     "output_type": "execute_result"
    }
   ],
   "source": [
    "#check data\n",
    "wc_combined.shape # 1967 rows\n",
    "wc_combined['WIRE_CENTER_ID'].nunique() #1967 unique wire centers"
   ]
  },
  {
   "cell_type": "code",
   "execution_count": 37,
   "id": "f6416ecc",
   "metadata": {},
   "outputs": [],
   "source": [
    "# Import local wc list\n",
    "local_wc_copy = pd.read_excel(r'Scott_WC_list.xlsx',sheet_name = 'Sheet1')"
   ]
  },
  {
   "cell_type": "code",
   "execution_count": 38,
   "id": "524c7ebf",
   "metadata": {},
   "outputs": [],
   "source": [
    "#clean field names\n",
    "local_wc_copy = local_wc_copy.rename(columns = {'Primary\\nWirecenter ID ': 'WIRE_CENTER_ID',\n",
    "                                                'CBSA ': 'CBSA',\n",
    "                                                'DMA ': 'DMA'})"
   ]
  },
  {
   "cell_type": "code",
   "execution_count": 39,
   "id": "714ad867",
   "metadata": {},
   "outputs": [],
   "source": [
    "wc_final = wc_combined.merge(local_wc_copy, how = 'outer', on = 'WIRE_CENTER_ID')"
   ]
  },
  {
   "cell_type": "code",
   "execution_count": 40,
   "id": "ca02aab5",
   "metadata": {},
   "outputs": [
    {
     "data": {
      "text/html": [
       "<div>\n",
       "<style scoped>\n",
       "    .dataframe tbody tr th:only-of-type {\n",
       "        vertical-align: middle;\n",
       "    }\n",
       "\n",
       "    .dataframe tbody tr th {\n",
       "        vertical-align: top;\n",
       "    }\n",
       "\n",
       "    .dataframe thead th {\n",
       "        text-align: right;\n",
       "    }\n",
       "</style>\n",
       "<table border=\"1\" class=\"dataframe\">\n",
       "  <thead>\n",
       "    <tr style=\"text-align: right;\">\n",
       "      <th></th>\n",
       "      <th>WIRE_CENTER_ID</th>\n",
       "      <th>STATE</th>\n",
       "      <th>CBSA_NAME</th>\n",
       "      <th>DMA_NAME</th>\n",
       "      <th>State</th>\n",
       "      <th>DMA</th>\n",
       "      <th>CBSA</th>\n",
       "    </tr>\n",
       "  </thead>\n",
       "  <tbody>\n",
       "    <tr>\n",
       "      <th>0</th>\n",
       "      <td>ABRDSDCO</td>\n",
       "      <td>SD</td>\n",
       "      <td>ABERDEEN, SD</td>\n",
       "      <td>SIOUX FALLS (MITCHELL) SD</td>\n",
       "      <td>SD</td>\n",
       "      <td>SIOUX FALLS (MITCHELL) SD</td>\n",
       "      <td>ABERDEEN, SD</td>\n",
       "    </tr>\n",
       "    <tr>\n",
       "      <th>1</th>\n",
       "      <td>ABRDWA01</td>\n",
       "      <td>WA</td>\n",
       "      <td>ABERDEEN, WA</td>\n",
       "      <td>SEATTLE-TACOMA WA</td>\n",
       "      <td>WA</td>\n",
       "      <td>SEATTLE-TACOMA WA</td>\n",
       "      <td>ABERDEEN, WA</td>\n",
       "    </tr>\n",
       "    <tr>\n",
       "      <th>2</th>\n",
       "      <td>ACKLIACO</td>\n",
       "      <td>IA</td>\n",
       "      <td>NON-CBSA</td>\n",
       "      <td>DES MOINES-AMES IA</td>\n",
       "      <td>IA</td>\n",
       "      <td>DES MOINES-AMES IA</td>\n",
       "      <td>NON-CBSA</td>\n",
       "    </tr>\n",
       "    <tr>\n",
       "      <th>3</th>\n",
       "      <td>ADAROR21</td>\n",
       "      <td>OR</td>\n",
       "      <td>CORVALLIS, OR</td>\n",
       "      <td>EUGENE OR</td>\n",
       "      <td>OR</td>\n",
       "      <td>EUGENE OR</td>\n",
       "      <td>CORVALLIS, OR</td>\n",
       "    </tr>\n",
       "    <tr>\n",
       "      <th>4</th>\n",
       "      <td>ADELIACO</td>\n",
       "      <td>IA</td>\n",
       "      <td>DES MOINES-WEST DES MOINES, IA</td>\n",
       "      <td>DES MOINES-AMES IA</td>\n",
       "      <td>IA</td>\n",
       "      <td>DES MOINES-AMES IA</td>\n",
       "      <td>DES MOINES-WEST DES MOINES, IA</td>\n",
       "    </tr>\n",
       "  </tbody>\n",
       "</table>\n",
       "</div>"
      ],
      "text/plain": [
       "  WIRE_CENTER_ID STATE                       CBSA_NAME  \\\n",
       "0       ABRDSDCO    SD                    ABERDEEN, SD   \n",
       "1       ABRDWA01    WA                    ABERDEEN, WA   \n",
       "2       ACKLIACO    IA                        NON-CBSA   \n",
       "3       ADAROR21    OR                   CORVALLIS, OR   \n",
       "4       ADELIACO    IA  DES MOINES-WEST DES MOINES, IA   \n",
       "\n",
       "                    DMA_NAME State                        DMA  \\\n",
       "0  SIOUX FALLS (MITCHELL) SD    SD  SIOUX FALLS (MITCHELL) SD   \n",
       "1          SEATTLE-TACOMA WA    WA          SEATTLE-TACOMA WA   \n",
       "2         DES MOINES-AMES IA    IA         DES MOINES-AMES IA   \n",
       "3                  EUGENE OR    OR                  EUGENE OR   \n",
       "4         DES MOINES-AMES IA    IA         DES MOINES-AMES IA   \n",
       "\n",
       "                             CBSA  \n",
       "0                    ABERDEEN, SD  \n",
       "1                    ABERDEEN, WA  \n",
       "2                        NON-CBSA  \n",
       "3                   CORVALLIS, OR  \n",
       "4  DES MOINES-WEST DES MOINES, IA  "
      ]
     },
     "execution_count": 40,
     "metadata": {},
     "output_type": "execute_result"
    }
   ],
   "source": [
    "# wc_final.shape #3744\n",
    "# wc_final['WIRE_CENTER_ID'].nunique() #3744\n",
    "wc_final.head()"
   ]
  },
  {
   "cell_type": "code",
   "execution_count": 41,
   "id": "d8412478",
   "metadata": {},
   "outputs": [],
   "source": [
    "# merge columns\n",
    "\n",
    "wc_final['STATE'] = np.where(wc_final['STATE'].isna(),wc_final['State'],wc_final['STATE'])\n",
    "wc_final['CBSA_NAME'] = np.where(wc_final['CBSA_NAME'].isna(),wc_final['CBSA'],wc_final['CBSA_NAME'])\n",
    "wc_final['DMA_NAME'] = np.where(wc_final['DMA_NAME'].isna(),wc_final['DMA'],wc_final['DMA_NAME'])\n",
    "wc_final = wc_final.drop(['State','DMA','CBSA'], axis = 1)"
   ]
  },
  {
   "cell_type": "code",
   "execution_count": 42,
   "id": "9d37809f",
   "metadata": {},
   "outputs": [
    {
     "data": {
      "text/html": [
       "<div>\n",
       "<style scoped>\n",
       "    .dataframe tbody tr th:only-of-type {\n",
       "        vertical-align: middle;\n",
       "    }\n",
       "\n",
       "    .dataframe tbody tr th {\n",
       "        vertical-align: top;\n",
       "    }\n",
       "\n",
       "    .dataframe thead th {\n",
       "        text-align: right;\n",
       "    }\n",
       "</style>\n",
       "<table border=\"1\" class=\"dataframe\">\n",
       "  <thead>\n",
       "    <tr style=\"text-align: right;\">\n",
       "      <th></th>\n",
       "      <th>WIRE_CENTER_ID</th>\n",
       "      <th>STATE</th>\n",
       "      <th>CBSA_NAME</th>\n",
       "      <th>DMA_NAME</th>\n",
       "    </tr>\n",
       "  </thead>\n",
       "  <tbody>\n",
       "    <tr>\n",
       "      <th>0</th>\n",
       "      <td>ABRDSDCO</td>\n",
       "      <td>SD</td>\n",
       "      <td>ABERDEEN, SD</td>\n",
       "      <td>SIOUX FALLS (MITCHELL) SD</td>\n",
       "    </tr>\n",
       "    <tr>\n",
       "      <th>1</th>\n",
       "      <td>ABRDWA01</td>\n",
       "      <td>WA</td>\n",
       "      <td>ABERDEEN, WA</td>\n",
       "      <td>SEATTLE-TACOMA WA</td>\n",
       "    </tr>\n",
       "    <tr>\n",
       "      <th>2</th>\n",
       "      <td>ACKLIACO</td>\n",
       "      <td>IA</td>\n",
       "      <td>NON-CBSA</td>\n",
       "      <td>DES MOINES-AMES IA</td>\n",
       "    </tr>\n",
       "    <tr>\n",
       "      <th>3</th>\n",
       "      <td>ADAROR21</td>\n",
       "      <td>OR</td>\n",
       "      <td>CORVALLIS, OR</td>\n",
       "      <td>EUGENE OR</td>\n",
       "    </tr>\n",
       "    <tr>\n",
       "      <th>4</th>\n",
       "      <td>ADELIACO</td>\n",
       "      <td>IA</td>\n",
       "      <td>DES MOINES-WEST DES MOINES, IA</td>\n",
       "      <td>DES MOINES-AMES IA</td>\n",
       "    </tr>\n",
       "  </tbody>\n",
       "</table>\n",
       "</div>"
      ],
      "text/plain": [
       "  WIRE_CENTER_ID STATE                       CBSA_NAME  \\\n",
       "0       ABRDSDCO    SD                    ABERDEEN, SD   \n",
       "1       ABRDWA01    WA                    ABERDEEN, WA   \n",
       "2       ACKLIACO    IA                        NON-CBSA   \n",
       "3       ADAROR21    OR                   CORVALLIS, OR   \n",
       "4       ADELIACO    IA  DES MOINES-WEST DES MOINES, IA   \n",
       "\n",
       "                    DMA_NAME  \n",
       "0  SIOUX FALLS (MITCHELL) SD  \n",
       "1          SEATTLE-TACOMA WA  \n",
       "2         DES MOINES-AMES IA  \n",
       "3                  EUGENE OR  \n",
       "4         DES MOINES-AMES IA  "
      ]
     },
     "execution_count": 42,
     "metadata": {},
     "output_type": "execute_result"
    }
   ],
   "source": [
    "# wc_final.shape #3744\n",
    "# wc_final['WIRE_CENTER_ID'].nunique() #3744\n",
    "wc_final.head()"
   ]
  },
  {
   "cell_type": "code",
   "execution_count": 43,
   "id": "f0e27017",
   "metadata": {},
   "outputs": [],
   "source": [
    "wc_final.to_excel(\"FINAL_wire_center_mapping_DO-NOT-ALTER.xlsx\", index = False)\n",
    "\n",
    "# conn.close()"
   ]
  },
  {
   "cell_type": "code",
   "execution_count": 36,
   "id": "1107696a",
   "metadata": {},
   "outputs": [],
   "source": [
    "#after export, manually check and fill in states"
   ]
  },
  {
   "cell_type": "code",
   "execution_count": null,
   "id": "6bb04c6e",
   "metadata": {},
   "outputs": [],
   "source": []
  }
 ],
 "metadata": {
  "kernelspec": {
   "display_name": "Python 3 (ipykernel)",
   "language": "python",
   "name": "python3"
  },
  "language_info": {
   "codemirror_mode": {
    "name": "ipython",
    "version": 3
   },
   "file_extension": ".py",
   "mimetype": "text/x-python",
   "name": "python",
   "nbconvert_exporter": "python",
   "pygments_lexer": "ipython3",
   "version": "3.9.12"
  }
 },
 "nbformat": 4,
 "nbformat_minor": 5
}
