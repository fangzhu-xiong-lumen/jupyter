{
 "cells": [
  {
   "cell_type": "code",
   "execution_count": 1,
   "id": "4d28ffd3",
   "metadata": {},
   "outputs": [],
   "source": [
    "import os\n",
    "import sys\n",
    "import pandas as pd\n",
    "import cx_Oracle\n",
    "cx_Oracle.init_oracle_client(lib_dir=r\"C:\\Oracle\\instantclient_21_6\")"
   ]
  },
  {
   "cell_type": "code",
   "execution_count": 2,
   "id": "ab52bb6d",
   "metadata": {},
   "outputs": [],
   "source": [
    "# FRAM001P\n",
    "conn = cx_Oracle.connect(\n",
    "    user=\"AD21236\",\n",
    "    password=\"L2022$Um\",\n",
    "    dsn=\"RACORAP08-SCAN.CORP.INTRANET/FRAM001P_PROD\",\n",
    "    encoding=\"UTF-8\")"
   ]
  },
  {
   "cell_type": "code",
   "execution_count": 3,
   "id": "5d10c49f",
   "metadata": {},
   "outputs": [
    {
     "name": "stderr",
     "output_type": "stream",
     "text": [
      "C:\\Users\\AD21236\\Anaconda3\\lib\\site-packages\\pandas\\io\\sql.py:761: UserWarning: pandas only support SQLAlchemy connectable(engine/connection) ordatabase string URI or sqlite3 DBAPI2 connectionother DBAPI2 objects are not tested, please consider using SQLAlchemy\n",
      "  warnings.warn(\n"
     ]
    },
    {
     "name": "stdout",
     "output_type": "stream",
     "text": [
      "CPU times: total: 250 ms\n",
      "Wall time: 3min 14s\n"
     ]
    }
   ],
   "source": [
    "%%time\n",
    "# optimize to pull one query by wire centers\n",
    "\n",
    "# multigig enabled polygons:\n",
    "# PHNXAZNE - polygon 1179499 - multigig enabled 9/30/22\n",
    "# PHNXAZSO - polygons 1179547, 1179498, 1179121 - multigig enabled 9/30/22\n",
    "# ARVDCOMA - polygon 1178832 \n",
    "# MPLSMNBE - polygon 1178694\n",
    "# PYLPWA01 - polygon 1178144\n",
    "# GLDNCOMA - polygons 1179687, 1179674 - enabled 10/10/22\n",
    "\n",
    "# each polygon will be associated with only one wire center, so only polygon id is needed in the filter\n",
    "\n",
    "multigig_enabled_polygons_query = \"\"\"\n",
    "\n",
    " WITH LQO AS (\n",
    "            SELECT  DISTINCT LUID\n",
    "                    ,WIRE_CENTER_ID\n",
    "                    ,ADDRESS\n",
    "                    ,ZIP_CODE\n",
    "                    ,UNIT\n",
    "                    ,UNI_POLYGONID        \n",
    "            \n",
    "            FROM    LQSMO.LU_QUAL_O\n",
    "            \n",
    "            WHERE   ADDRESS <> '7599 S WHEELING CT'\n",
    "                    AND (UNI_SERVICETYPE LIKE 'XGS%' \n",
    "                        OR TECH_TYPE LIKE 'XGS_PON' \n",
    "                        OR OLT_TYPE='ADTRAN-SDX6320-16-XGS-PON') \n",
    "                    AND uni_status='IN SERVICE'\n",
    "                    AND (UNI_POLYGONID in ('1179499',  -- PHNXAZNE\n",
    "                                          '1179547', '1179498', '1179121', -- PHNXAZSO\n",
    "                                          '1178832', -- ARVDCOMA\n",
    "                                          '1178694', -- MPLSMNBE\n",
    "                                          '1178144', --PYLPWA01\n",
    "                                          '1179687', '1179674' --GLDNCOMA\n",
    "                                          )\n",
    "                        OR WIRE_CENTER_ID = 'MPLSMNBE') -- per request, want all polygons in MPLSMNBE\n",
    "        \n",
    "        ),\n",
    "        LQ AS (\n",
    "        \n",
    "        SELECT  Q.LUID\n",
    "                ,Q.WIRE_CENTER_ID\n",
    "                ,Q.ADDRESS\n",
    "                ,Q.HNO\n",
    "                ,Q.ST\n",
    "                ,Q.UNIT\n",
    "                ,Q.FLR\n",
    "                ,Q.BLDG\n",
    "                ,Q.COM\n",
    "                ,Q.ZIP_CODE\n",
    "                ,Q.TAR_CODE\n",
    "                ,Q.BORN_ON_DATE\n",
    "                ,Q.CAF_CENSUS_BLOCK\n",
    "                ,Q.SERVING_TERMINAL\n",
    "                ,Q.LU_XBOX\n",
    "                ,Q.ASSOCIATED_TERMINAL_ID\n",
    "                ,Q.REMOTE_TERMINAL_ID\n",
    "                ,Q.REMOTE_TYPE\n",
    "                ,Q.RES_BUS\n",
    "                ,Q.LU_STAT\n",
    "\n",
    "            FROM\n",
    "                LU_QUAL Q\n",
    "                JOIN LQO O\n",
    "                    ON Q.WIRE_CENTER_ID = O.WIRE_CENTER_ID\n",
    "        ),\n",
    "        \n",
    "        LC AS (\n",
    "            \n",
    "            SELECT * \n",
    "            FROM LU_CIRCUITS\n",
    "        )\n",
    "        \n",
    "        SELECT DISTINCT\n",
    "                O.LUID AS LU_QUAL_O_LUID\n",
    "                ,O.UNI_POLYGONID\n",
    "                ,A.*\n",
    "                ,COALESCE(B.TELEPHONE_NUMBER,LCO.SUBSCRIBER) as TELEPHONE_OR_SUBSCRIBER\n",
    "                ,B.LOOP_NAME\n",
    "                ,B.CIRCUIT_IDENTIFIER\n",
    "                ,B.SERVICE_CODE\n",
    "                ,B.SERVICE_TYPE\n",
    "                ,B.CS_USOC\n",
    "                ,COALESCE(B.AL_USOC,LCO.HSI_SERVICE_PROFILE) as AL_USOC_OR_HSI_SERVICEPROFILE\n",
    "                ,B.USER_ID\n",
    "                ,B.TIME_STAMP\n",
    "        FROM  LQO O\n",
    "                JOIN LQ A\n",
    "                    ON (TRIM(A.ADDRESS)||NVL(A.UNIT||A.FLR||A.BLDG,'.')=O.ADDRESS||NVL(REGEXP_REPLACE(O.UNIT, '^UNIT\\s|^UNT\\s|^APT\\s|^FLR\\s|BLDG\\s', ''),'.'))\n",
    "                    AND O.WIRE_CENTER_ID = A.WIRE_CENTER_ID\n",
    "                LEFT JOIN LC B\n",
    "                    ON  A.WIRE_CENTER_ID=B.WIRE_CENTER_ID\n",
    "                    AND A.LUID=B.LUID\n",
    "                LEFT JOIN LU_CIRCUITS_O LCO\n",
    "                    ON O.LUID = LCO.LUID\n",
    "                    AND O.WIRE_CENTER_ID = LCO.WIRE_CENTER_ID\n",
    "                    AND LCO.SERVICE_FACS_STATUS = 'WKG'   --working customer base\n",
    "\n",
    "\"\"\"\n",
    "\n",
    "multigig_enabled_polygons_df = pd.read_sql(multigig_enabled_polygons_query, con=conn)"
   ]
  },
  {
   "cell_type": "code",
   "execution_count": 5,
   "id": "552287dc",
   "metadata": {},
   "outputs": [
    {
     "data": {
      "text/plain": [
       "MPLSMNBE    2536\n",
       "PHNXAZSO     886\n",
       "GLDNCOMA     421\n",
       "PYLPWA01     342\n",
       "PHNXAZNE     218\n",
       "ARVDCOMA     207\n",
       "Name: WIRE_CENTER_ID, dtype: int64"
      ]
     },
     "execution_count": 5,
     "metadata": {},
     "output_type": "execute_result"
    }
   ],
   "source": [
    "# check unique wire centers\n",
    "multigig_enabled_polygons_df['WIRE_CENTER_ID'].value_counts()"
   ]
  },
  {
   "cell_type": "code",
   "execution_count": 7,
   "id": "113ef406",
   "metadata": {},
   "outputs": [],
   "source": [
    "# separate data by wire center - manually add in wire centers\n",
    "\n",
    "MPLSMNBE = multigig_enabled_polygons_df[multigig_enabled_polygons_df['WIRE_CENTER_ID'] == 'MPLSMNBE']\n",
    "PHNXAZSO = multigig_enabled_polygons_df[multigig_enabled_polygons_df['WIRE_CENTER_ID'] == 'PHNXAZSO']\n",
    "PYLPWA01 = multigig_enabled_polygons_df[multigig_enabled_polygons_df['WIRE_CENTER_ID'] == 'PYLPWA01']\n",
    "PHNXAZNE = multigig_enabled_polygons_df[multigig_enabled_polygons_df['WIRE_CENTER_ID'] == 'PHNXAZNE']\n",
    "ARVDCOMA = multigig_enabled_polygons_df[multigig_enabled_polygons_df['WIRE_CENTER_ID'] == 'ARVDCOMA']\n",
    "GLDNCOMA = multigig_enabled_polygons_df[multigig_enabled_polygons_df['WIRE_CENTER_ID'] == 'GLDNCOMA']"
   ]
  },
  {
   "cell_type": "code",
   "execution_count": 10,
   "id": "44ccc038",
   "metadata": {},
   "outputs": [],
   "source": [
    "import time\n",
    "\n",
    "# export\n",
    "TodaysDate = time.strftime(\"%m%d%y\")\n",
    "excelfilename = \"Output/\" + TodaysDate + \"_LU_QUAL_slowsales.xlsx\"\n",
    "\n",
    "# add in new sheets manually if there are new wire centers turning up\n",
    "\n",
    "with pd.ExcelWriter(excelfilename) as writer:  \n",
    "    ARVDCOMA.to_excel(writer, sheet_name='ARVDCOMA', index = False)\n",
    "    MPLSMNBE.to_excel(writer, sheet_name='MPLSMNBE_ALL_POLYGONS', index = False)\n",
    "    PYLPWA01.to_excel(writer, sheet_name='PYLPWA01', index = False)\n",
    "    PHNXAZSO.to_excel(writer, sheet_name='PHNXAZSO', index = False)\n",
    "    PHNXAZNE.to_excel(writer, sheet_name='PHNXAZNE', index = False)\n",
    "    GLDNCOMA.to_excel(writer, sheet_name='GLDNCOMA', index = False)"
   ]
  },
  {
   "cell_type": "code",
   "execution_count": null,
   "id": "c50ed846",
   "metadata": {},
   "outputs": [],
   "source": []
  }
 ],
 "metadata": {
  "kernelspec": {
   "display_name": "Python 3 (ipykernel)",
   "language": "python",
   "name": "python3"
  },
  "language_info": {
   "codemirror_mode": {
    "name": "ipython",
    "version": 3
   },
   "file_extension": ".py",
   "mimetype": "text/x-python",
   "name": "python",
   "nbconvert_exporter": "python",
   "pygments_lexer": "ipython3",
   "version": "3.9.12"
  }
 },
 "nbformat": 4,
 "nbformat_minor": 5
}
